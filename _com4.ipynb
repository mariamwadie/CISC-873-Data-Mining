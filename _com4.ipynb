{
  "cells": [
    {
      "cell_type": "markdown",
      "id": "oYOYVvoIHYKz",
      "metadata": {
        "id": "oYOYVvoIHYKz"
      },
      "source": [
        "# importing libraries"
      ]
    },
    {
      "cell_type": "code",
      "execution_count": null,
      "id": "67029833",
      "metadata": {
        "id": "67029833"
      },
      "outputs": [],
      "source": [
        "import tensorflow as tf\n",
        "from tensorflow.keras.layers import GRU\n",
        "import matplotlib.pyplot as plt\n",
        "from sklearn.model_selection import train_test_split\n",
        "import pandas as pd\n",
        "from tqdm.notebook import tqdm\n",
        "from PIL import Image\n",
        "from tensorflow.keras.layers import Conv1D, MaxPool1D\n",
        "from tensorflow.keras.layers import Bidirectional\n",
        "import os\n",
        "from tensorflow.keras.layers import LSTM\n",
        "import numpy as np\n",
        "from __future__ import absolute_import, division, print_function, unicode_literals\n",
        "import collections\n",
        "from tensorflow.keras.layers import Dropout\n",
        "from tensorflow import keras\n",
        "from tensorflow.keras.layers import Conv2D, Flatten, Dense, MaxPool2D\n",
        "from tensorflow.keras.optimizers import Adam\n",
        "from tensorflow.keras.preprocessing.text import Tokenizer\n",
        "from tensorflow.keras.preprocessing.sequence import pad_sequences\n",
        "from pprint import pprint\n",
        "from tensorflow.keras.layers import MultiHeadAttention\n",
        "from __future__ import absolute_import, division, print_function, unicode_literals\n",
        "from keras.layers import Layer\n",
        "import keras.backend as K\n",
        "from tensorflow.keras.layers import GlobalAveragePooling2D, Rescaling\n",
        "from keras.applications.vgg16 import VGG16\n"
      ]
    },
    {
      "cell_type": "markdown",
      "id": "6d72u71AMeSR",
      "metadata": {
        "id": "6d72u71AMeSR"
      },
      "source": [
        "# loading data set"
      ]
    },
    {
      "cell_type": "code",
      "execution_count": null,
      "id": "7_wIUspkMUQ-",
      "metadata": {
        "id": "7_wIUspkMUQ-"
      },
      "outputs": [],
      "source": [
        "df = pd.read_csv('train_xy.csv') # reading  training data\n",
        "test = pd.read_csv('test_x.csv') # reading test data"
      ]
    },
    {
      "cell_type": "code",
      "execution_count": null,
      "id": "f1829954",
      "metadata": {
        "id": "f1829954",
        "colab": {
          "referenced_widgets": [
            "f785db791c1e4aa390538c4791a533a5"
          ]
        },
        "outputId": "8c8d5843-6191-4c29-c79d-6bfea5a0e53f"
      },
      "outputs": [
        {
          "data": {
            "application/vnd.jupyter.widget-view+json": {
              "model_id": "f785db791c1e4aa390538c4791a533a5",
              "version_major": 2,
              "version_minor": 0
            },
            "text/plain": [
              "  0%|          | 0/7627 [00:00<?, ?it/s]"
            ]
          },
          "metadata": {},
          "output_type": "display_data"
        }
      ],
      "source": [
        "# preprocess image data with gray scale\n",
        "\n",
        "def load_image(file):\n",
        "    try:\n",
        "        image = Image.open(\n",
        "            file\n",
        "        ).convert('LA').resize((64, 64,2)) # read  image as a greyscale\n",
        "        arr = np.array(image) # convert  image to an array\n",
        "    except:\n",
        "        arr = np.zeros((64, 64, 2)) #  an array of zeros\n",
        "    return arr\n",
        "\n",
        "\n",
        "# loading images\n",
        "x_image = np.array([load_image(i) for i in tqdm(df.image)]) # load each image\n",
        "\n",
        "# loading summary\n",
        "x_text = df.summary.astype('str')"
      ]
    },
    {
      "cell_type": "code",
      "execution_count": null,
      "id": "6e093130",
      "metadata": {
        "id": "6e093130",
        "colab": {
          "referenced_widgets": [
            "7dde1679369a447fabf8ba6a732592c1"
          ]
        },
        "outputId": "614ab4ac-54a5-4d35-ced1-7fb5ed8b8812"
      },
      "outputs": [
        {
          "data": {
            "application/vnd.jupyter.widget-view+json": {
              "model_id": "7dde1679369a447fabf8ba6a732592c1",
              "version_major": 2,
              "version_minor": 0
            },
            "text/plain": [
              "  0%|          | 0/7627 [00:00<?, ?it/s]"
            ]
          },
          "metadata": {},
          "output_type": "display_data"
        }
      ],
      "source": [
        "# preprocess image data with rgb\n",
        "\n",
        "def load_image2(file):\n",
        "    try:\n",
        "        image = Image.open(\n",
        "            file\n",
        "        ).convert('RGB').resize((64, 64, 3)) # read  image as a greyscale\n",
        "        arr = np.array(image) # convert  image to an array\n",
        "    except:\n",
        "        arr = np.zeros((64, 64, 3)) #  an array of zeros\n",
        "    return arr\n",
        "\n",
        "\n",
        "# loading images\n",
        "x_image2 = np.array([load_image2(i) for i in tqdm(df.image)]) # load each image\n",
        "\n",
        "# loading summary\n",
        "x_text = df.summary.astype('str')"
      ]
    },
    {
      "cell_type": "code",
      "execution_count": null,
      "id": "0f802c6f",
      "metadata": {
        "id": "0f802c6f"
      },
      "outputs": [],
      "source": [
        "# labels\n",
        "y_price =df.price\n",
        "y_type = df.type.astype('category').cat.codes\n",
        "\n",
        "len_price = len(y_price.unique()) # number of unique labels for price\n",
        "len_type = len(y_type.unique()) # number of unique labels for rental type\n",
        "\n",
        "# splitting the data for gray scale images\n",
        "x_tr_image, x_vl_image, x_tr_text, x_vl_text, y_tr_price, y_vl_price, y_tr_type, y_vl_type = train_test_split(x_image, x_text,y_price,y_type,test_size=0.2)\n",
        "#validation splits are containing 20% of the training set"
      ]
    },
    {
      "cell_type": "code",
      "execution_count": null,
      "id": "f9cbaa08",
      "metadata": {
        "id": "f9cbaa08"
      },
      "outputs": [],
      "source": [
        "#spliting the data for rgb images\n",
        "x_tr_image2, x_vl_image2, x_tr_text, x_vl_text, y_tr_price, y_vl_price, y_tr_type, y_vl_type = train_test_split(x_image2, x_text,y_price,y_type,test_size=0.2)\n",
        "#validation splits are containing 20% of the training set"
      ]
    },
    {
      "cell_type": "code",
      "execution_count": null,
      "id": "31094dfd",
      "metadata": {
        "id": "31094dfd",
        "outputId": "fd3087e6-a6fa-41a2-87d3-1f57fcf856d5"
      },
      "outputs": [
        {
          "name": "stdout",
          "output_type": "stream",
          "text": [
            "(6101, 100)\n",
            "(1526, 100)\n"
          ]
        }
      ],
      "source": [
        "# preprocess text data\n",
        "vocab_size = 40000 # a threshold\n",
        "max_len = 100 # maximum sequence length\n",
        "\n",
        "\n",
        "# build vocabulary from training set\n",
        "tokenizer = Tokenizer(num_words=vocab_size) # build a tokenizer\n",
        "tokenizer.fit_on_texts(x_tr_text)\n",
        "\n",
        "\n",
        "def _preprocess(list_of_text):\n",
        "    return pad_sequences(\n",
        "        tokenizer.texts_to_sequences(list_of_text), # transforms\n",
        "        maxlen=max_len, #  max sequence length of 100\n",
        "        padding='post', #  add padding at the end to make it 100 words long\n",
        "    )\n",
        "x_tr_text_id = _preprocess(x_tr_text) # preprocess on training sequences\n",
        "x_vl_text_id = _preprocess(x_vl_text) # preprocess on validation sequences\n",
        "\n",
        "print(x_tr_text_id.shape)\n",
        "print(x_vl_text_id.shape)"
      ]
    },
    {
      "cell_type": "code",
      "execution_count": null,
      "id": "33e12cbc",
      "metadata": {
        "colab": {
          "referenced_widgets": [
            "05e134dcf1fe457e916822b4d3cdddcc"
          ]
        },
        "id": "33e12cbc",
        "outputId": "ddbf8c2f-ab0c-4df3-8ecb-7f1075035e52"
      },
      "outputs": [
        {
          "data": {
            "application/vnd.jupyter.widget-view+json": {
              "model_id": "05e134dcf1fe457e916822b4d3cdddcc",
              "version_major": 2,
              "version_minor": 0
            },
            "text/plain": [
              "  0%|          | 0/7360 [00:00<?, ?it/s]"
            ]
          },
          "metadata": {},
          "output_type": "display_data"
        }
      ],
      "source": [
        "x_test_summary = _preprocess(test.summary.astype(str)) # create sequences\n",
        "x_test_image2 = np.array([load_image2(i) for i in tqdm(test.image)]) #  resize the images from the test set with rgb"
      ]
    },
    {
      "cell_type": "code",
      "execution_count": null,
      "id": "153911df",
      "metadata": {
        "colab": {
          "referenced_widgets": [
            "0f8686f50c9e484cb7131875c5f7e91c"
          ]
        },
        "id": "153911df",
        "outputId": "841c742c-4b51-4199-8050-cdaa6facaf44"
      },
      "outputs": [
        {
          "data": {
            "application/vnd.jupyter.widget-view+json": {
              "model_id": "0f8686f50c9e484cb7131875c5f7e91c",
              "version_major": 2,
              "version_minor": 0
            },
            "text/plain": [
              "  0%|          | 0/7360 [00:00<?, ?it/s]"
            ]
          },
          "metadata": {},
          "output_type": "display_data"
        }
      ],
      "source": [
        "x_test_summary = _preprocess(test.summary.astype(str)) # create sequences\n",
        "x_test_image = np.array([load_image(i) for i in tqdm(test.image)]) #  resize the images from the test set with gray scale"
      ]
    },
    {
      "cell_type": "code",
      "execution_count": null,
      "id": "5e03c982",
      "metadata": {
        "id": "5e03c982",
        "outputId": "eb2a05db-c7ba-4dc3-a2ff-59d01c412050"
      },
      "outputs": [
        {
          "name": "stdout",
          "output_type": "stream",
          "text": [
            "['notre logement est idéal pour un couple de voyageur désirant visiter '\n",
            " \"montréal vous aurez accès à la totalité de l'appartement et vous pourrez y \"\n",
            " 'vivre comme bon vous semble nous apprécierons toujours faire votre '\n",
            " 'connaissance et partagez notre expérience de la ville pour enrichir la votre '\n",
            " 'our flat is ideal for traveling couples willing to discover montréal you '\n",
            " 'will have full access to the flat and you are free to come and go we will '\n",
            " 'appreciate to share our experience with you',\n",
            " 'located in the golden mile of downtown montreal a quiet neighbourhood that’s '\n",
            " 'close to the action on saint catherine and saint denis',\n",
            " 'the gab maison is the first shared living space in montreal for the '\n",
            " 'wandering souls of the sedentary era it is a unique communal home in the '\n",
            " 'heart of the city is a calm and cozy space which keeps with montreal’s '\n",
            " 'artistic and cosmopolitan vibe it is perfect place for those just passing '\n",
            " 'through or looking to settle in montreal for stays of 31 days and above',\n",
            " 'charming one bedroom apartment on the third floor located in a central '\n",
            " \"neighbourhood of montreal you'll be 20 mins walk 5 mins drive from downtown \"\n",
            " '2 mins walk from the charlevoix metro station and 5 mins walk from the canal '\n",
            " 'lachine and atwater market',\n",
            " \"mon logement est proche de saint joseph's oratory of mount royal lac des \"\n",
            " 'castors parc mont royal vous apprécierez mon logement pour les espaces '\n",
            " 'extérieurs et le quartier mon logement est parfait pour les couples les '\n",
            " 'voyageurs en solo les familles avec enfants et les compagnons à quatre '\n",
            " 'pattes pour plus de détails veuillez me contacter']\n"
          ]
        }
      ],
      "source": [
        "# printing the first 5 text sequences\n",
        "pprint(tokenizer.sequences_to_texts(x_tr_text_id[:5]))"
      ]
    },
    {
      "cell_type": "code",
      "execution_count": null,
      "id": "6732130f",
      "metadata": {
        "id": "6732130f",
        "outputId": "b5166f7f-50ee-4790-9b8d-c21aac1f0b02"
      },
      "outputs": [
        {
          "name": "stdout",
          "output_type": "stream",
          "text": [
            "total words in the dictionary: 40000\n"
          ]
        }
      ],
      "source": [
        "# number of unique words contained in the vocabulary\n",
        "print('total words in the dictionary:', tokenizer.num_words)"
      ]
    },
    {
      "cell_type": "code",
      "execution_count": null,
      "id": "a8074995",
      "metadata": {
        "id": "a8074995"
      },
      "outputs": [],
      "source": [
        "callbacks = [tf.keras.callbacks.EarlyStopping(monitor='val_price_loss', patience=10, )]\n",
        "# setting patience 10"
      ]
    },
    {
      "cell_type": "markdown",
      "id": "_AWbM2zuMvLo",
      "metadata": {
        "id": "_AWbM2zuMvLo"
      },
      "source": [
        "# first trail simple network with rgb images"
      ]
    },
    {
      "cell_type": "code",
      "execution_count": null,
      "id": "3eda47da",
      "metadata": {
        "colab": {
          "base_uri": "https://localhost:8080/"
        },
        "id": "3eda47da",
        "outputId": "a54a9d1d-0096-45b8-b882-6c08484fcdaf"
      },
      "outputs": [
        {
          "name": "stdout",
          "output_type": "stream",
          "text": [
            "Model: \"model\"\n",
            "__________________________________________________________________________________________________\n",
            " Layer (type)                   Output Shape         Param #     Connected to                     \n",
            "==================================================================================================\n",
            " input_2 (InputLayer)           [(None, 64, 64, 3)]  0           []                               \n",
            "                                                                                                  \n",
            " input_1 (InputLayer)           [(None, 100)]        0           []                               \n",
            "                                                                                                  \n",
            " conv2d (Conv2D)                (None, 49, 49, 32)   24608       ['input_2[0][0]']                \n",
            "                                                                                                  \n",
            " embedding (Embedding)          (None, 100, 100)     4000000     ['input_1[0][0]']                \n",
            "                                                                                                  \n",
            " max_pooling2d (MaxPooling2D)   (None, 3, 3, 32)     0           ['conv2d[0][0]']                 \n",
            "                                                                                                  \n",
            " tf.math.reduce_mean (TFOpLambd  (None, 100)         0           ['embedding[0][0]']              \n",
            " a)                                                                                               \n",
            "                                                                                                  \n",
            " flatten (Flatten)              (None, 288)          0           ['max_pooling2d[0][0]']          \n",
            "                                                                                                  \n",
            " tf.concat (TFOpLambda)         (None, 388)          0           ['tf.math.reduce_mean[0][0]',    \n",
            "                                                                  'flatten[0][0]']                \n",
            "                                                                                                  \n",
            " price (Dense)                  (None, 3)            1167        ['tf.concat[0][0]']              \n",
            "                                                                                                  \n",
            " type (Dense)                   (None, 24)           9336        ['tf.concat[0][0]']              \n",
            "                                                                                                  \n",
            "==================================================================================================\n",
            "Total params: 4,035,111\n",
            "Trainable params: 4,035,111\n",
            "Non-trainable params: 0\n",
            "__________________________________________________________________________________________________\n"
          ]
        }
      ],
      "source": [
        "in_text = keras.Input(batch_shape=(None, max_len))\n",
        "in_image = keras.Input(batch_shape=(None, 64, 64, 3))\n",
        "\n",
        "# text\n",
        "embedded = keras.layers.Embedding(tokenizer.num_words, 100)(in_text) # word embeddings\n",
        "averaged = tf.reduce_mean(embedded, axis=1) # compute the mean\n",
        "\n",
        "# image\n",
        "cov = Conv2D(32, (16, 16))(in_image) # convolutional layer with 32 filters, and a 16x16 mask\n",
        "pl = MaxPool2D((16, 16))(cov) # max pooling with a 16x16 mask\n",
        "flattened = Flatten()(pl) # flatten the shape\n",
        "\n",
        "# fusion\n",
        "fused = tf.concat([averaged, flattened], axis=-1) # combine text features with images\n",
        "\n",
        "# multi-objectives\n",
        "p_price = Dense(len_price, activation='softmax', name='price')(fused) # predict price label\n",
        "p_type = Dense(len_type, activation='softmax', name='type')(fused)\n",
        "\n",
        "# build model\n",
        "model = keras.Model(\n",
        "    inputs={\n",
        "        'summary': in_text,\n",
        "        'image': in_image\n",
        "    },\n",
        "    outputs={\n",
        "        'price': p_price,\n",
        "        'type': p_type,\n",
        "    },\n",
        ")\n",
        "# compile model\n",
        "model.compile(\n",
        "    optimizer=Adam(), # using Adam for optimization\n",
        "    # using sparse categorical cross-entropy loss since our labels are integers\n",
        "    loss={\n",
        "        'price': 'sparse_categorical_crossentropy',\n",
        "        'type': 'sparse_categorical_crossentropy',\n",
        "    },\n",
        "    # equally weight\n",
        "    loss_weights={\n",
        "        'price': 0.5,\n",
        "        'type': 0.5,\n",
        "    },\n",
        "    # evaluation metric is accuracy\n",
        "    metrics={\n",
        "        'price': ['SparseCategoricalAccuracy'],\n",
        "        'type': ['SparseCategoricalAccuracy'],\n",
        "    },\n",
        ")\n",
        "\n",
        "\n",
        "model.summary() # print the model"
      ]
    },
    {
      "cell_type": "code",
      "execution_count": null,
      "id": "1cc316ad",
      "metadata": {
        "colab": {
          "base_uri": "https://localhost:8080/"
        },
        "id": "1cc316ad",
        "outputId": "3250883a-9b42-4611-a1e5-31ed431cfcb4"
      },
      "outputs": [
        {
          "name": "stdout",
          "output_type": "stream",
          "text": [
            "Epoch 1/20\n",
            "610/610 [==============================] - 49s 73ms/step - loss: 0.9904 - price_loss: 0.8327 - type_loss: 1.1481 - price_sparse_categorical_accuracy: 0.6230 - type_sparse_categorical_accuracy: 0.7512 - val_loss: 0.8959 - val_price_loss: 0.8096 - val_type_loss: 0.9823 - val_price_sparse_categorical_accuracy: 0.6151 - val_type_sparse_categorical_accuracy: 0.7674\n",
            "Epoch 2/20\n",
            "610/610 [==============================] - 52s 85ms/step - loss: 0.8691 - price_loss: 0.7732 - type_loss: 0.9650 - price_sparse_categorical_accuracy: 0.6480 - type_sparse_categorical_accuracy: 0.7545 - val_loss: 0.8530 - val_price_loss: 0.7723 - val_type_loss: 0.9337 - val_price_sparse_categorical_accuracy: 0.6388 - val_type_sparse_categorical_accuracy: 0.7674\n",
            "Epoch 3/20\n",
            "610/610 [==============================] - 51s 84ms/step - loss: 0.8036 - price_loss: 0.7044 - type_loss: 0.9028 - price_sparse_categorical_accuracy: 0.6873 - type_sparse_categorical_accuracy: 0.7559 - val_loss: 0.8157 - val_price_loss: 0.7364 - val_type_loss: 0.8950 - val_price_sparse_categorical_accuracy: 0.6626 - val_type_sparse_categorical_accuracy: 0.7666\n",
            "Epoch 4/20\n",
            "610/610 [==============================] - 51s 84ms/step - loss: 0.7410 - price_loss: 0.6460 - type_loss: 0.8360 - price_sparse_categorical_accuracy: 0.7189 - type_sparse_categorical_accuracy: 0.7625 - val_loss: 0.8008 - val_price_loss: 0.7291 - val_type_loss: 0.8726 - val_price_sparse_categorical_accuracy: 0.6675 - val_type_sparse_categorical_accuracy: 0.7731\n",
            "Epoch 5/20\n",
            "610/610 [==============================] - 51s 84ms/step - loss: 0.6858 - price_loss: 0.5987 - type_loss: 0.7730 - price_sparse_categorical_accuracy: 0.7463 - type_sparse_categorical_accuracy: 0.7732 - val_loss: 0.7802 - val_price_loss: 0.7194 - val_type_loss: 0.8410 - val_price_sparse_categorical_accuracy: 0.6691 - val_type_sparse_categorical_accuracy: 0.7723\n",
            "Epoch 6/20\n",
            "610/610 [==============================] - 55s 90ms/step - loss: 0.6354 - price_loss: 0.5558 - type_loss: 0.7151 - price_sparse_categorical_accuracy: 0.7627 - type_sparse_categorical_accuracy: 0.7916 - val_loss: 0.7778 - val_price_loss: 0.7264 - val_type_loss: 0.8291 - val_price_sparse_categorical_accuracy: 0.6749 - val_type_sparse_categorical_accuracy: 0.7748\n",
            "Epoch 7/20\n",
            "610/610 [==============================] - 55s 90ms/step - loss: 0.5874 - price_loss: 0.5141 - type_loss: 0.6606 - price_sparse_categorical_accuracy: 0.7900 - type_sparse_categorical_accuracy: 0.8070 - val_loss: 0.7786 - val_price_loss: 0.7313 - val_type_loss: 0.8260 - val_price_sparse_categorical_accuracy: 0.6773 - val_type_sparse_categorical_accuracy: 0.7797\n",
            "Epoch 8/20\n",
            "610/610 [==============================] - 55s 91ms/step - loss: 0.5423 - price_loss: 0.4761 - type_loss: 0.6085 - price_sparse_categorical_accuracy: 0.8080 - type_sparse_categorical_accuracy: 0.8242 - val_loss: 0.7752 - val_price_loss: 0.7339 - val_type_loss: 0.8165 - val_price_sparse_categorical_accuracy: 0.6699 - val_type_sparse_categorical_accuracy: 0.7821\n",
            "Epoch 9/20\n",
            "610/610 [==============================] - 55s 91ms/step - loss: 0.5008 - price_loss: 0.4424 - type_loss: 0.5592 - price_sparse_categorical_accuracy: 0.8219 - type_sparse_categorical_accuracy: 0.8416 - val_loss: 0.7823 - val_price_loss: 0.7521 - val_type_loss: 0.8124 - val_price_sparse_categorical_accuracy: 0.6749 - val_type_sparse_categorical_accuracy: 0.7821\n",
            "Epoch 10/20\n",
            "610/610 [==============================] - 55s 91ms/step - loss: 0.4612 - price_loss: 0.4087 - type_loss: 0.5137 - price_sparse_categorical_accuracy: 0.8408 - type_sparse_categorical_accuracy: 0.8576 - val_loss: 0.7866 - val_price_loss: 0.7654 - val_type_loss: 0.8078 - val_price_sparse_categorical_accuracy: 0.6667 - val_type_sparse_categorical_accuracy: 0.7887\n"
          ]
        }
      ],
      "source": [
        "# fit our model\n",
        "history = model.fit(\n",
        "    #  inputs text sequences and  image\n",
        "    x={\n",
        "        'summary': x_tr_text_id,\n",
        "        'image': x_tr_image2\n",
        "    },\n",
        "    #  outputs price and rental\n",
        "    y={\n",
        "        'price': y_tr_price,\n",
        "        'type': y_tr_type,\n",
        "    },\n",
        "    epochs=20, # train for 20 epochs\n",
        "    batch_size=8,\n",
        "    validation_data=(\n",
        "        {\n",
        "            'summary': x_vl_text_id,\n",
        "            'image': x_vl_image2\n",
        "         },\n",
        "        {\n",
        "            'price': y_vl_price,\n",
        "            'type': y_vl_type,\n",
        "        }),\n",
        "    validation_split=0.2, # validate on a hold-out set of 20%\n",
        "    # use early stopping\n",
        "    callbacks=[\n",
        "        tf.keras.callbacks.EarlyStopping(monitor='val_price_loss', patience=5, )\n",
        "    ],\n",
        "    verbose=1\n",
        ")"
      ]
    },
    {
      "cell_type": "code",
      "execution_count": null,
      "id": "78392d25",
      "metadata": {
        "colab": {
          "base_uri": "https://localhost:8080/"
        },
        "id": "78392d25",
        "outputId": "ecd74655-1a21-40eb-b2bd-d63d2c90504e"
      },
      "outputs": [
        {
          "name": "stdout",
          "output_type": "stream",
          "text": [
            "[[0.759334   0.19407992 0.04658607]\n",
            " [0.9780568  0.01706753 0.00487572]\n",
            " [0.88446224 0.06217538 0.05336236]\n",
            " ...\n",
            " [0.7248444  0.2446812  0.03047441]\n",
            " [0.9875693  0.00874319 0.00368762]\n",
            " [0.7951708  0.17401569 0.03081357]]\n",
            "[0 0 0 ... 0 0 0]\n"
          ]
        }
      ],
      "source": [
        "#  predictions on the test set\n",
        "y_predict = model.predict(\n",
        "    {\n",
        "        'summary': x_test_summary,\n",
        "        'image': x_test_image2\n",
        "    }\n",
        ")\n",
        "\n",
        "price_predicted = y_predict['price']\n",
        "print(price_predicted)\n",
        "price_category_predicted = np.argmax(price_predicted, axis=1)\n",
        "print(price_category_predicted)\n",
        "\n",
        "#  submission csv\n",
        "pd.DataFrame(\n",
        "    {'id': test.id,\n",
        "     'price': price_category_predicted}).to_csv('sample_submission.csv', index=False)"
      ]
    },
    {
      "cell_type": "code",
      "execution_count": null,
      "id": "95536e65",
      "metadata": {
        "colab": {
          "base_uri": "https://localhost:8080/",
          "height": 308
        },
        "id": "95536e65",
        "outputId": "938cdcbe-8797-4b48-db40-87e3dc5a71e6"
      },
      "outputs": [
        {
          "data": {
            "image/png": "[encoded data removed]",
            "text/plain": [
              "<Figure size 864x288 with 3 Axes>"
            ]
          },
          "metadata": {
            "needs_background": "light"
          },
          "output_type": "display_data"
        }
      ],
      "source": [
        "#  accuracy and loss curves\n",
        "\n",
        "fig, (ax1, ax2, ax3) = plt.subplots(1, 3, figsize=(12,4))\n",
        "fig.suptitle('result')\n",
        "#  training price accuracy and the validation price accuracy\n",
        "ax1.plot(history.history['price_sparse_categorical_accuracy'])\n",
        "ax1.plot(history.history['val_price_sparse_categorical_accuracy'])\n",
        "ax1.set_title('price accuracy')\n",
        "ax1.set_ylabel('accuracy')\n",
        "ax1.set_xlabel('epoch')\n",
        "ax1.legend(['train_price', 'validation_price'], loc='upper left')\n",
        "#  specified accuracy metric and type accuracy\n",
        "ax2.plot(history.history['type_sparse_categorical_accuracy'])\n",
        "ax2.plot(history.history['val_type_sparse_categorical_accuracy'])\n",
        "ax2.set_title('type accuracy')\n",
        "ax2.set_ylabel('accuracy')\n",
        "ax2.set_xlabel('epoch')\n",
        "ax2.legend(['train_type', 'validation_type'], loc='upper left')\n",
        "# the training loss and the validation loss\n",
        "ax3.plot(history.history['loss'])\n",
        "ax3.plot(history.history['val_loss'])\n",
        "ax3.set_title('model loss')\n",
        "ax3.set_ylabel('loss')\n",
        "ax3.set_xlabel('epoch')\n",
        "ax3.legend(['train', 'validation'], loc='upper left')\n",
        "plt.show() # display the figure"
      ]
    },
    {
      "cell_type": "markdown",
      "id": "-jH2-qW2RZU2",
      "metadata": {
        "id": "-jH2-qW2RZU2"
      },
      "source": [
        "this gave me the best accuracy with rgb images"
      ]
    },
    {
      "cell_type": "markdown",
      "metadata": {
        "id": "W8aW1LMVKx9T"
      },
      "source": [
        "# second trail  simple network with gray scale images"
      ],
      "id": "W8aW1LMVKx9T"
    },
    {
      "cell_type": "code",
      "execution_count": null,
      "metadata": {
        "colab": {
          "base_uri": "https://localhost:8080/"
        },
        "outputId": "a54a9d1d-0096-45b8-b882-6c08484fcdaf",
        "id": "MPiRek8rLeNp"
      },
      "outputs": [
        {
          "name": "stdout",
          "output_type": "stream",
          "text": [
            "Model: \"model\"\n",
            "__________________________________________________________________________________________________\n",
            " Layer (type)                   Output Shape         Param #     Connected to                     \n",
            "==================================================================================================\n",
            " input_2 (InputLayer)           [(None, 64, 64, 3)]  0           []                               \n",
            "                                                                                                  \n",
            " input_1 (InputLayer)           [(None, 100)]        0           []                               \n",
            "                                                                                                  \n",
            " conv2d (Conv2D)                (None, 49, 49, 32)   24608       ['input_2[0][0]']                \n",
            "                                                                                                  \n",
            " embedding (Embedding)          (None, 100, 100)     4000000     ['input_1[0][0]']                \n",
            "                                                                                                  \n",
            " max_pooling2d (MaxPooling2D)   (None, 3, 3, 32)     0           ['conv2d[0][0]']                 \n",
            "                                                                                                  \n",
            " tf.math.reduce_mean (TFOpLambd  (None, 100)         0           ['embedding[0][0]']              \n",
            " a)                                                                                               \n",
            "                                                                                                  \n",
            " flatten (Flatten)              (None, 288)          0           ['max_pooling2d[0][0]']          \n",
            "                                                                                                  \n",
            " tf.concat (TFOpLambda)         (None, 388)          0           ['tf.math.reduce_mean[0][0]',    \n",
            "                                                                  'flatten[0][0]']                \n",
            "                                                                                                  \n",
            " price (Dense)                  (None, 3)            1167        ['tf.concat[0][0]']              \n",
            "                                                                                                  \n",
            " type (Dense)                   (None, 24)           9336        ['tf.concat[0][0]']              \n",
            "                                                                                                  \n",
            "==================================================================================================\n",
            "Total params: 4,035,111\n",
            "Trainable params: 4,035,111\n",
            "Non-trainable params: 0\n",
            "__________________________________________________________________________________________________\n"
          ]
        }
      ],
      "source": [
        "in_text = keras.Input(batch_shape=(None, max_len))\n",
        "in_image = keras.Input(batch_shape=(None, 64, 64, 2))\n",
        "\n",
        "# text\n",
        "embedded = keras.layers.Embedding(tokenizer.num_words, 100)(in_text) # word embeddings\n",
        "averaged = tf.reduce_mean(embedded, axis=1) # compute the mean\n",
        "\n",
        "# image\n",
        "cov = Conv2D(32, (16, 16))(in_image) # convolutional layer with 32 filters, and a 16x16 mask\n",
        "pl = MaxPool2D((16, 16))(cov) # max pooling with a 16x16 mask\n",
        "flattened = Flatten()(pl) # flatten the shape\n",
        "\n",
        "# fusion\n",
        "fused = tf.concat([averaged, flattened], axis=-1) # combine text features with images\n",
        "\n",
        "# multi-objectives\n",
        "p_price = Dense(len_price, activation='softmax', name='price')(fused) # predict price label\n",
        "p_type = Dense(len_type, activation='softmax', name='type')(fused)\n",
        "\n",
        "# build model\n",
        "model = keras.Model(\n",
        "    inputs={\n",
        "        'summary': in_text,\n",
        "        'image': in_image\n",
        "    },\n",
        "    outputs={\n",
        "        'price': p_price,\n",
        "        'type': p_type,\n",
        "    },\n",
        ")\n",
        "# compile model\n",
        "model.compile(\n",
        "    optimizer=Adam(), # using Adam for optimization\n",
        "    # using sparse categorical cross-entropy loss since our labels are integers\n",
        "    loss={\n",
        "        'price': 'sparse_categorical_crossentropy',\n",
        "        'type': 'sparse_categorical_crossentropy',\n",
        "    },\n",
        "    # equally weight\n",
        "    loss_weights={\n",
        "        'price': 0.5,\n",
        "        'type': 0.5,\n",
        "    },\n",
        "    # evaluation metric is accuracy\n",
        "    metrics={\n",
        "        'price': ['SparseCategoricalAccuracy'],\n",
        "        'type': ['SparseCategoricalAccuracy'],\n",
        "    },\n",
        ")\n",
        "\n",
        "\n",
        "model.summary() # print the model"
      ],
      "id": "MPiRek8rLeNp"
    },
    {
      "cell_type": "code",
      "execution_count": null,
      "metadata": {
        "colab": {
          "base_uri": "https://localhost:8080/"
        },
        "outputId": "3250883a-9b42-4611-a1e5-31ed431cfcb4",
        "id": "inqoQRCrL98g"
      },
      "outputs": [
        {
          "name": "stdout",
          "output_type": "stream",
          "text": [
            "Epoch 1/20\n",
            "610/610 [==============================] - 49s 73ms/step - loss: 0.9904 - price_loss: 0.8327 - type_loss: 1.1481 - price_sparse_categorical_accuracy: 0.6230 - type_sparse_categorical_accuracy: 0.7512 - val_loss: 0.8959 - val_price_loss: 0.8096 - val_type_loss: 0.9823 - val_price_sparse_categorical_accuracy: 0.6151 - val_type_sparse_categorical_accuracy: 0.7674\n",
            "Epoch 2/20\n",
            "610/610 [==============================] - 52s 85ms/step - loss: 0.8691 - price_loss: 0.7732 - type_loss: 0.9650 - price_sparse_categorical_accuracy: 0.6480 - type_sparse_categorical_accuracy: 0.7545 - val_loss: 0.8530 - val_price_loss: 0.7723 - val_type_loss: 0.9337 - val_price_sparse_categorical_accuracy: 0.6388 - val_type_sparse_categorical_accuracy: 0.7674\n",
            "Epoch 3/20\n",
            "610/610 [==============================] - 51s 84ms/step - loss: 0.8036 - price_loss: 0.7044 - type_loss: 0.9028 - price_sparse_categorical_accuracy: 0.6873 - type_sparse_categorical_accuracy: 0.7559 - val_loss: 0.8157 - val_price_loss: 0.7364 - val_type_loss: 0.8950 - val_price_sparse_categorical_accuracy: 0.6626 - val_type_sparse_categorical_accuracy: 0.7666\n",
            "Epoch 4/20\n",
            "610/610 [==============================] - 51s 84ms/step - loss: 0.7410 - price_loss: 0.6460 - type_loss: 0.8360 - price_sparse_categorical_accuracy: 0.7189 - type_sparse_categorical_accuracy: 0.7625 - val_loss: 0.8008 - val_price_loss: 0.7291 - val_type_loss: 0.8726 - val_price_sparse_categorical_accuracy: 0.6675 - val_type_sparse_categorical_accuracy: 0.7731\n",
            "Epoch 5/20\n",
            "610/610 [==============================] - 51s 84ms/step - loss: 0.6858 - price_loss: 0.5987 - type_loss: 0.7730 - price_sparse_categorical_accuracy: 0.7463 - type_sparse_categorical_accuracy: 0.7732 - val_loss: 0.7802 - val_price_loss: 0.7194 - val_type_loss: 0.8410 - val_price_sparse_categorical_accuracy: 0.6691 - val_type_sparse_categorical_accuracy: 0.7723\n",
            "Epoch 6/20\n",
            "610/610 [==============================] - 55s 90ms/step - loss: 0.6354 - price_loss: 0.5558 - type_loss: 0.7151 - price_sparse_categorical_accuracy: 0.7627 - type_sparse_categorical_accuracy: 0.7916 - val_loss: 0.7778 - val_price_loss: 0.7264 - val_type_loss: 0.8291 - val_price_sparse_categorical_accuracy: 0.6749 - val_type_sparse_categorical_accuracy: 0.7748\n",
            "Epoch 7/20\n",
            "610/610 [==============================] - 55s 90ms/step - loss: 0.5874 - price_loss: 0.5141 - type_loss: 0.6606 - price_sparse_categorical_accuracy: 0.7900 - type_sparse_categorical_accuracy: 0.8070 - val_loss: 0.7786 - val_price_loss: 0.7313 - val_type_loss: 0.8260 - val_price_sparse_categorical_accuracy: 0.6773 - val_type_sparse_categorical_accuracy: 0.7797\n",
            "Epoch 8/20\n",
            "610/610 [==============================] - 55s 91ms/step - loss: 0.5423 - price_loss: 0.4761 - type_loss: 0.6085 - price_sparse_categorical_accuracy: 0.8080 - type_sparse_categorical_accuracy: 0.8242 - val_loss: 0.7752 - val_price_loss: 0.7339 - val_type_loss: 0.8165 - val_price_sparse_categorical_accuracy: 0.6699 - val_type_sparse_categorical_accuracy: 0.7821\n",
            "Epoch 9/20\n",
            "610/610 [==============================] - 55s 91ms/step - loss: 0.5008 - price_loss: 0.4424 - type_loss: 0.5592 - price_sparse_categorical_accuracy: 0.8219 - type_sparse_categorical_accuracy: 0.8416 - val_loss: 0.7823 - val_price_loss: 0.7521 - val_type_loss: 0.8124 - val_price_sparse_categorical_accuracy: 0.6749 - val_type_sparse_categorical_accuracy: 0.7821\n",
            "Epoch 10/20\n",
            "610/610 [==============================] - 55s 91ms/step - loss: 0.4612 - price_loss: 0.4087 - type_loss: 0.5137 - price_sparse_categorical_accuracy: 0.8408 - type_sparse_categorical_accuracy: 0.8576 - val_loss: 0.7866 - val_price_loss: 0.7654 - val_type_loss: 0.8078 - val_price_sparse_categorical_accuracy: 0.6667 - val_type_sparse_categorical_accuracy: 0.7887\n"
          ]
        }
      ],
      "source": [
        "# fit our model\n",
        "history = model.fit(\n",
        "    #  inputs text sequences and  image\n",
        "    x={\n",
        "        'summary': x_tr_text_id,\n",
        "        'image': x_tr_image\n",
        "    },\n",
        "    #  outputs price and rental\n",
        "    y={\n",
        "        'price': y_tr_price,\n",
        "        'type': y_tr_type,\n",
        "    },\n",
        "    epochs=20, # train for 20 epochs\n",
        "    batch_size=8,\n",
        "    validation_data=(\n",
        "        {\n",
        "            'summary': x_vl_text_id,\n",
        "            'image': x_vl_image\n",
        "         },\n",
        "        {\n",
        "            'price': y_vl_price,\n",
        "            'type': y_vl_type,\n",
        "        }),\n",
        "    validation_split=0.2, # validate on a hold-out set of 20%\n",
        "    # use early stopping\n",
        "    callbacks=[\n",
        "        tf.keras.callbacks.EarlyStopping(monitor='val_price_loss', patience=5, )\n",
        "    ],\n",
        "    verbose=1\n",
        ")"
      ],
      "id": "inqoQRCrL98g"
    },
    {
      "cell_type": "code",
      "execution_count": null,
      "metadata": {
        "colab": {
          "base_uri": "https://localhost:8080/",
          "height": 308
        },
        "outputId": "938cdcbe-8797-4b48-db40-87e3dc5a71e6",
        "id": "ZRKhqGpaMQe-"
      },
      "outputs": [
        {
          "data": {
            "image/png": "[encoded data removed]",
            "text/plain": [
              "<Figure size 864x288 with 3 Axes>"
            ]
          },
          "metadata": {
            "needs_background": "light"
          },
          "output_type": "display_data"
        }
      ],
      "source": [
        "#  accuracy and loss curves\n",
        "\n",
        "fig, (ax1, ax2, ax3) = plt.subplots(1, 3, figsize=(12,4))\n",
        "fig.suptitle('result')\n",
        "#  training price accuracy and the validation price accuracy\n",
        "ax1.plot(history.history['price_sparse_categorical_accuracy'])\n",
        "ax1.plot(history.history['val_price_sparse_categorical_accuracy'])\n",
        "ax1.set_title('price accuracy')\n",
        "ax1.set_ylabel('accuracy')\n",
        "ax1.set_xlabel('epoch')\n",
        "ax1.legend(['train_price', 'validation_price'], loc='upper left')\n",
        "#  specified accuracy metric and type accuracy\n",
        "ax2.plot(history.history['type_sparse_categorical_accuracy'])\n",
        "ax2.plot(history.history['val_type_sparse_categorical_accuracy'])\n",
        "ax2.set_title('type accuracy')\n",
        "ax2.set_ylabel('accuracy')\n",
        "ax2.set_xlabel('epoch')\n",
        "ax2.legend(['train_type', 'validation_type'], loc='upper left')\n",
        "# the training loss and the validation loss\n",
        "ax3.plot(history.history['loss'])\n",
        "ax3.plot(history.history['val_loss'])\n",
        "ax3.set_title('model loss')\n",
        "ax3.set_ylabel('loss')\n",
        "ax3.set_xlabel('epoch')\n",
        "ax3.legend(['train', 'validation'], loc='upper left')\n",
        "plt.show() # display the figure"
      ],
      "id": "ZRKhqGpaMQe-"
    },
    {
      "cell_type": "code",
      "execution_count": null,
      "metadata": {
        "colab": {
          "base_uri": "https://localhost:8080/"
        },
        "outputId": "ecd74655-1a21-40eb-b2bd-d63d2c90504e",
        "id": "vrCvCs7HMDKN"
      },
      "outputs": [
        {
          "name": "stdout",
          "output_type": "stream",
          "text": [
            "[[0.759334   0.19407992 0.04658607]\n",
            " [0.9780568  0.01706753 0.00487572]\n",
            " [0.88446224 0.06217538 0.05336236]\n",
            " ...\n",
            " [0.7248444  0.2446812  0.03047441]\n",
            " [0.9875693  0.00874319 0.00368762]\n",
            " [0.7951708  0.17401569 0.03081357]]\n",
            "[0 0 0 ... 0 0 0]\n"
          ]
        }
      ],
      "source": [
        "#  predictions on the test set\n",
        "y_predict = model.predict(\n",
        "    {\n",
        "        'summary': x_test_summary,\n",
        "        'image': x_test_image\n",
        "    }\n",
        ")\n",
        "\n",
        "price_predicted = y_predict['price']\n",
        "print(price_predicted)\n",
        "price_category_predicted = np.argmax(price_predicted, axis=1)\n",
        "print(price_category_predicted)\n",
        "\n",
        "#  submission csv\n",
        "pd.DataFrame(\n",
        "    {'id': test.id,\n",
        "     'price': price_category_predicted}).to_csv('sample_submission.csv', index=False)"
      ],
      "id": "vrCvCs7HMDKN"
    },
    {
      "cell_type": "markdown",
      "source": [
        "The accuracy and loss on training and validation splits are noisy"
      ],
      "metadata": {
        "id": "jheGo4dyMbkm"
      },
      "id": "jheGo4dyMbkm"
    },
    {
      "cell_type": "markdown",
      "metadata": {
        "id": "e2441b93"
      },
      "source": [
        "put  an LSTM layer and vary the number of units. i think it will make an improvement"
      ],
      "id": "e2441b93"
    },
    {
      "cell_type": "markdown",
      "id": "S-hb3ejZNCG7",
      "metadata": {
        "id": "S-hb3ejZNCG7"
      },
      "source": [
        "# third trail with LSTM"
      ]
    },
    {
      "cell_type": "code",
      "execution_count": null,
      "id": "0538f8f1",
      "metadata": {
        "id": "0538f8f1",
        "outputId": "edcc55d8-b427-4ad3-e930-2a990004d33e"
      },
      "outputs": [
        {
          "name": "stdout",
          "output_type": "stream",
          "text": [
            "Model: \"model_1\"\n",
            "__________________________________________________________________________________________________\n",
            " Layer (type)                   Output Shape         Param #     Connected to                     \n",
            "==================================================================================================\n",
            " input_4 (InputLayer)           [(None, 64, 64, 2)]  0           []                               \n",
            "                                                                                                  \n",
            " input_3 (InputLayer)           [(None, 100)]        0           []                               \n",
            "                                                                                                  \n",
            " conv2d_1 (Conv2D)              (None, 49, 49, 32)   16416       ['input_4[0][0]']                \n",
            "                                                                                                  \n",
            " embedding_1 (Embedding)        (None, 100, 100)     4000000     ['input_3[0][0]']                \n",
            "                                                                                                  \n",
            " max_pooling2d_1 (MaxPooling2D)  (None, 3, 3, 32)    0           ['conv2d_1[0][0]']               \n",
            "                                                                                                  \n",
            " lstm (LSTM)                    (None, 50)           30200       ['embedding_1[0][0]']            \n",
            "                                                                                                  \n",
            " flatten_1 (Flatten)            (None, 288)          0           ['max_pooling2d_1[0][0]']        \n",
            "                                                                                                  \n",
            " tf.concat_1 (TFOpLambda)       (None, 338)          0           ['lstm[0][0]',                   \n",
            "                                                                  'flatten_1[0][0]']              \n",
            "                                                                                                  \n",
            " price (Dense)                  (None, 3)            1017        ['tf.concat_1[0][0]']            \n",
            "                                                                                                  \n",
            " type (Dense)                   (None, 24)           8136        ['tf.concat_1[0][0]']            \n",
            "                                                                                                  \n",
            "==================================================================================================\n",
            "Total params: 4,055,769\n",
            "Trainable params: 4,055,769\n",
            "Non-trainable params: 0\n",
            "__________________________________________________________________________________________________\n"
          ]
        }
      ],
      "source": [
        "#same as trail 1\n",
        "in_text = keras.Input(batch_shape=(None, max_len))\n",
        "in_image = keras.Input(batch_shape=(None, 64, 64, 2))\n",
        "\n",
        "# text part\n",
        "embedded = keras.layers.Embedding(tokenizer.num_words, 100)(in_text) # get  word embeddings\n",
        "\n",
        "\n",
        "lstm = LSTM(50)(embedded)\n",
        "\n",
        "# image part\n",
        "cov = Conv2D(32, (16, 16))(in_image)\n",
        "pl = MaxPool2D((16, 16))(cov)\n",
        "flattened = Flatten()(pl)\n",
        "\n",
        "\n",
        "# fusion\n",
        "fused = tf.concat([lstm, flattened], axis=-1)\n",
        "\n",
        "# multi-objectives\n",
        "p_price = Dense(len_price, activation='softmax', name='price')(fused)\n",
        "p_type = Dense(len_type, activation='softmax', name='type')(fused)\n",
        "\n",
        "#build model\n",
        "lstm_model = keras.Model(\n",
        "    inputs={\n",
        "        'summary': in_text, # text inputs\n",
        "        'image': in_image # image inputs\n",
        "    },\n",
        "    outputs={\n",
        "        'price': p_price,\n",
        "        'type': p_type,\n",
        "    },\n",
        ")\n",
        "# compile model\n",
        "lstm_model.compile(\n",
        "      optimizer=Adam(learning_rate=0.001),\n",
        "      loss={\n",
        "          'price': 'sparse_categorical_crossentropy',\n",
        "          'type': 'sparse_categorical_crossentropy',\n",
        "      },\n",
        "\n",
        "      loss_weights={\n",
        "          'price': 0.5,\n",
        "          'type': 0.5,\n",
        "      },\n",
        "\n",
        "      metrics={\n",
        "          'price': ['SparseCategoricalAccuracy'],\n",
        "          'type': ['SparseCategoricalAccuracy'],\n",
        "      },\n",
        "  )\n",
        "lstm_model.summary()"
      ]
    },
    {
      "cell_type": "code",
      "execution_count": null,
      "id": "f736e7ee",
      "metadata": {
        "id": "f736e7ee",
        "outputId": "76252a05-bd68-4dfa-c081-feab1ccbc7ac"
      },
      "outputs": [
        {
          "name": "stdout",
          "output_type": "stream",
          "text": [
            "Epoch 1/20\n",
            "305/305 [==============================] - 32s 99ms/step - loss: 1.0089 - price_loss: 0.8521 - type_loss: 1.1656 - price_sparse_categorical_accuracy: 0.6262 - type_sparse_categorical_accuracy: 0.7492 - val_loss: 0.9170 - val_price_loss: 0.8389 - val_type_loss: 0.9952 - val_price_sparse_categorical_accuracy: 0.6069 - val_type_sparse_categorical_accuracy: 0.7674\n",
            "Epoch 2/20\n",
            "305/305 [==============================] - 31s 101ms/step - loss: 0.9251 - price_loss: 0.8362 - type_loss: 1.0140 - price_sparse_categorical_accuracy: 0.6262 - type_sparse_categorical_accuracy: 0.7545 - val_loss: 0.9182 - val_price_loss: 0.8363 - val_type_loss: 1.0002 - val_price_sparse_categorical_accuracy: 0.6069 - val_type_sparse_categorical_accuracy: 0.7674\n",
            "Epoch 3/20\n",
            "305/305 [==============================] - 30s 100ms/step - loss: 0.9243 - price_loss: 0.8356 - type_loss: 1.0129 - price_sparse_categorical_accuracy: 0.6262 - type_sparse_categorical_accuracy: 0.7545 - val_loss: 0.9159 - val_price_loss: 0.8364 - val_type_loss: 0.9953 - val_price_sparse_categorical_accuracy: 0.6069 - val_type_sparse_categorical_accuracy: 0.7674\n",
            "Epoch 4/20\n",
            "305/305 [==============================] - 31s 101ms/step - loss: 0.9250 - price_loss: 0.8354 - type_loss: 1.0147 - price_sparse_categorical_accuracy: 0.6262 - type_sparse_categorical_accuracy: 0.7545 - val_loss: 0.9203 - val_price_loss: 0.8445 - val_type_loss: 0.9961 - val_price_sparse_categorical_accuracy: 0.6069 - val_type_sparse_categorical_accuracy: 0.7674\n",
            "Epoch 5/20\n",
            "305/305 [==============================] - 33s 107ms/step - loss: 0.9246 - price_loss: 0.8360 - type_loss: 1.0132 - price_sparse_categorical_accuracy: 0.6262 - type_sparse_categorical_accuracy: 0.7545 - val_loss: 0.9197 - val_price_loss: 0.8402 - val_type_loss: 0.9992 - val_price_sparse_categorical_accuracy: 0.6069 - val_type_sparse_categorical_accuracy: 0.7674\n",
            "Epoch 6/20\n",
            "305/305 [==============================] - 31s 102ms/step - loss: 0.9228 - price_loss: 0.8351 - type_loss: 1.0105 - price_sparse_categorical_accuracy: 0.6262 - type_sparse_categorical_accuracy: 0.7545 - val_loss: 0.9154 - val_price_loss: 0.8366 - val_type_loss: 0.9942 - val_price_sparse_categorical_accuracy: 0.6069 - val_type_sparse_categorical_accuracy: 0.7674\n",
            "Epoch 7/20\n",
            "305/305 [==============================] - 31s 101ms/step - loss: 0.9229 - price_loss: 0.8342 - type_loss: 1.0116 - price_sparse_categorical_accuracy: 0.6262 - type_sparse_categorical_accuracy: 0.7545 - val_loss: 0.9160 - val_price_loss: 0.8366 - val_type_loss: 0.9953 - val_price_sparse_categorical_accuracy: 0.6069 - val_type_sparse_categorical_accuracy: 0.7674\n",
            "Epoch 8/20\n",
            "305/305 [==============================] - 31s 101ms/step - loss: 0.9217 - price_loss: 0.8338 - type_loss: 1.0097 - price_sparse_categorical_accuracy: 0.6258 - type_sparse_categorical_accuracy: 0.7543 - val_loss: 0.9189 - val_price_loss: 0.8416 - val_type_loss: 0.9961 - val_price_sparse_categorical_accuracy: 0.6069 - val_type_sparse_categorical_accuracy: 0.7674\n",
            "Epoch 9/20\n",
            "305/305 [==============================] - 31s 100ms/step - loss: 0.9235 - price_loss: 0.8343 - type_loss: 1.0127 - price_sparse_categorical_accuracy: 0.6264 - type_sparse_categorical_accuracy: 0.7545 - val_loss: 0.9210 - val_price_loss: 0.8471 - val_type_loss: 0.9950 - val_price_sparse_categorical_accuracy: 0.6069 - val_type_sparse_categorical_accuracy: 0.7674\n",
            "Epoch 10/20\n",
            "305/305 [==============================] - 31s 101ms/step - loss: 0.9208 - price_loss: 0.8319 - type_loss: 1.0096 - price_sparse_categorical_accuracy: 0.6266 - type_sparse_categorical_accuracy: 0.7545 - val_loss: 0.9177 - val_price_loss: 0.8369 - val_type_loss: 0.9986 - val_price_sparse_categorical_accuracy: 0.6069 - val_type_sparse_categorical_accuracy: 0.7674\n",
            "Epoch 11/20\n",
            "305/305 [==============================] - 31s 101ms/step - loss: 0.9215 - price_loss: 0.8337 - type_loss: 1.0092 - price_sparse_categorical_accuracy: 0.6268 - type_sparse_categorical_accuracy: 0.7545 - val_loss: 0.9155 - val_price_loss: 0.8372 - val_type_loss: 0.9939 - val_price_sparse_categorical_accuracy: 0.6069 - val_type_sparse_categorical_accuracy: 0.7674\n",
            "Epoch 12/20\n",
            "305/305 [==============================] - 31s 101ms/step - loss: 0.9108 - price_loss: 0.8255 - type_loss: 0.9960 - price_sparse_categorical_accuracy: 0.6250 - type_sparse_categorical_accuracy: 0.7545 - val_loss: 0.8914 - val_price_loss: 0.8194 - val_type_loss: 0.9635 - val_price_sparse_categorical_accuracy: 0.6085 - val_type_sparse_categorical_accuracy: 0.7674\n",
            "Epoch 13/20\n",
            "305/305 [==============================] - 31s 101ms/step - loss: 0.8829 - price_loss: 0.7973 - type_loss: 0.9686 - price_sparse_categorical_accuracy: 0.6326 - type_sparse_categorical_accuracy: 0.7545 - val_loss: 0.9055 - val_price_loss: 0.8363 - val_type_loss: 0.9747 - val_price_sparse_categorical_accuracy: 0.6061 - val_type_sparse_categorical_accuracy: 0.7674\n",
            "Epoch 14/20\n",
            "305/305 [==============================] - 31s 101ms/step - loss: 0.8488 - price_loss: 0.7642 - type_loss: 0.9334 - price_sparse_categorical_accuracy: 0.6559 - type_sparse_categorical_accuracy: 0.7584 - val_loss: 0.8756 - val_price_loss: 0.8094 - val_type_loss: 0.9417 - val_price_sparse_categorical_accuracy: 0.6118 - val_type_sparse_categorical_accuracy: 0.7682\n",
            "Epoch 15/20\n",
            "305/305 [==============================] - 31s 103ms/step - loss: 0.8226 - price_loss: 0.7414 - type_loss: 0.9038 - price_sparse_categorical_accuracy: 0.6697 - type_sparse_categorical_accuracy: 0.7615 - val_loss: 0.8700 - val_price_loss: 0.8060 - val_type_loss: 0.9340 - val_price_sparse_categorical_accuracy: 0.6290 - val_type_sparse_categorical_accuracy: 0.7674\n",
            "Epoch 16/20\n",
            "305/305 [==============================] - 31s 102ms/step - loss: 0.7837 - price_loss: 0.6999 - type_loss: 0.8674 - price_sparse_categorical_accuracy: 0.6934 - type_sparse_categorical_accuracy: 0.7684 - val_loss: 0.8619 - val_price_loss: 0.7908 - val_type_loss: 0.9330 - val_price_sparse_categorical_accuracy: 0.6355 - val_type_sparse_categorical_accuracy: 0.7518\n",
            "Epoch 17/20\n",
            "305/305 [==============================] - 32s 105ms/step - loss: 0.7269 - price_loss: 0.6315 - type_loss: 0.8223 - price_sparse_categorical_accuracy: 0.7350 - type_sparse_categorical_accuracy: 0.7826 - val_loss: 0.8818 - val_price_loss: 0.8181 - val_type_loss: 0.9454 - val_price_sparse_categorical_accuracy: 0.6454 - val_type_sparse_categorical_accuracy: 0.7461\n",
            "Epoch 18/20\n",
            "305/305 [==============================] - 32s 104ms/step - loss: 0.6629 - price_loss: 0.5573 - type_loss: 0.7684 - price_sparse_categorical_accuracy: 0.7779 - type_sparse_categorical_accuracy: 0.7936 - val_loss: 0.8858 - val_price_loss: 0.8350 - val_type_loss: 0.9367 - val_price_sparse_categorical_accuracy: 0.6282 - val_type_sparse_categorical_accuracy: 0.7576\n",
            "Epoch 19/20\n",
            "305/305 [==============================] - 32s 104ms/step - loss: 0.6034 - price_loss: 0.4852 - type_loss: 0.7216 - price_sparse_categorical_accuracy: 0.8148 - type_sparse_categorical_accuracy: 0.8055 - val_loss: 0.9151 - val_price_loss: 0.8754 - val_type_loss: 0.9547 - val_price_sparse_categorical_accuracy: 0.6478 - val_type_sparse_categorical_accuracy: 0.7527\n",
            "Epoch 20/20\n",
            "305/305 [==============================] - 32s 104ms/step - loss: 0.5568 - price_loss: 0.4335 - type_loss: 0.6800 - price_sparse_categorical_accuracy: 0.8367 - type_sparse_categorical_accuracy: 0.8123 - val_loss: 0.9777 - val_price_loss: 0.9625 - val_type_loss: 0.9928 - val_price_sparse_categorical_accuracy: 0.6519 - val_type_sparse_categorical_accuracy: 0.7387\n"
          ]
        }
      ],
      "source": [
        "# same as the first one still have not chanaged anything\n",
        "history =lstm_model.fit(\n",
        "      x={\n",
        "          'summary': x_tr_text_id,\n",
        "          'image': x_tr_image\n",
        "      },\n",
        "      y={\n",
        "          'price': y_tr_price,\n",
        "          'type': y_tr_type,\n",
        "      },\n",
        "     epochs=20,\n",
        "     batch_size=16,\n",
        "     validation_data=(\n",
        "          {\n",
        "              'summary': x_vl_text_id,\n",
        "              'image': x_vl_image\n",
        "          },\n",
        "          {\n",
        "              'price': y_vl_price,\n",
        "              'type': y_vl_type,\n",
        "          }),\n",
        "      validation_split=0.2,\n",
        "      callbacks=callbacks,\n",
        "      verbose=1\n",
        "  )"
      ]
    },
    {
      "cell_type": "code",
      "execution_count": null,
      "id": "9d5a14de",
      "metadata": {
        "id": "9d5a14de",
        "outputId": "f51b6d55-6cce-4606-f22b-8141756f9945"
      },
      "outputs": [
        {
          "data": {
            "image/png": "[encoded data removed]",
            "text/plain": [
              "<Figure size 864x288 with 3 Axes>"
            ]
          },
          "metadata": {
            "needs_background": "light"
          },
          "output_type": "display_data"
        }
      ],
      "source": [
        "fig, (ax1, ax2, ax3) = plt.subplots(1, 3, figsize=(12,4))\n",
        "fig.suptitle('result')\n",
        "#  training price accuracy and the validation price accuracy\n",
        "ax1.plot(history.history['price_sparse_categorical_accuracy'])\n",
        "ax1.plot(history.history['val_price_sparse_categorical_accuracy'])\n",
        "ax1.set_title('price accuracy')\n",
        "ax1.set_ylabel('accuracy')\n",
        "ax1.set_xlabel('epoch')\n",
        "ax1.legend(['train_price', 'validation_price'], loc='upper left')\n",
        "#  specified accuracy metric and type accuracy\n",
        "ax2.plot(history.history['type_sparse_categorical_accuracy'])\n",
        "ax2.plot(history.history['val_type_sparse_categorical_accuracy'])\n",
        "ax2.set_title('type accuracy')\n",
        "ax2.set_ylabel('accuracy')\n",
        "ax2.set_xlabel('epoch')\n",
        "ax2.legend(['train_type', 'validation_type'], loc='upper left')\n",
        "# the training loss and the validation loss\n",
        "ax3.plot(history.history['loss'])\n",
        "ax3.plot(history.history['val_loss'])\n",
        "ax3.set_title('model loss')\n",
        "ax3.set_ylabel('loss')\n",
        "ax3.set_xlabel('epoch')\n",
        "ax3.legend(['train', 'validation'], loc='upper left')\n",
        "plt.show() # display the figure"
      ]
    },
    {
      "cell_type": "code",
      "execution_count": null,
      "id": "1080711c",
      "metadata": {
        "id": "1080711c"
      },
      "outputs": [],
      "source": [
        "# predictions\n",
        "y_predict =lstm_model.predict(\n",
        "      {\n",
        "          'summary': x_test_summary,\n",
        "          'image': x_test_image\n",
        "      }\n",
        "  )\n",
        "price_predicted = y_predict['price']\n",
        "price_category_predicted = np.argmax(price_predicted, axis=1)\n",
        "\n",
        "  #  submission csv\n",
        "pd.DataFrame(\n",
        "      {'id': test.id,\n",
        "      'price': price_category_predicted}).to_csv('LSTM.csv', index=False)"
      ]
    },
    {
      "cell_type": "markdown",
      "id": "nkhBJ0tgRjo3",
      "metadata": {
        "id": "nkhBJ0tgRjo3"
      },
      "source": [
        "The LSTM layer improved the test accuracy on the leaderboard but it was not good with bgr images"
      ]
    },
    {
      "cell_type": "markdown",
      "id": "d9c75b1f",
      "metadata": {
        "id": "d9c75b1f"
      },
      "source": [
        "  try GRU layer instead  hope that the performance will improves"
      ]
    },
    {
      "cell_type": "markdown",
      "id": "g8ttlq09NLNZ",
      "metadata": {
        "id": "g8ttlq09NLNZ"
      },
      "source": [
        "# forth trail with GRU"
      ]
    },
    {
      "cell_type": "code",
      "execution_count": null,
      "id": "f5924b9a",
      "metadata": {
        "id": "f5924b9a",
        "outputId": "c81910cb-7fbd-480d-823c-928ebef43048"
      },
      "outputs": [
        {
          "name": "stdout",
          "output_type": "stream",
          "text": [
            "Model: \"model_2\"\n",
            "__________________________________________________________________________________________________\n",
            " Layer (type)                   Output Shape         Param #     Connected to                     \n",
            "==================================================================================================\n",
            " input_6 (InputLayer)           [(None, 64, 64, 2)]  0           []                               \n",
            "                                                                                                  \n",
            " input_5 (InputLayer)           [(None, 100)]        0           []                               \n",
            "                                                                                                  \n",
            " conv2d_2 (Conv2D)              (None, 49, 49, 32)   16416       ['input_6[0][0]']                \n",
            "                                                                                                  \n",
            " embedding_2 (Embedding)        (None, 100, 100)     4000000     ['input_5[0][0]']                \n",
            "                                                                                                  \n",
            " max_pooling2d_2 (MaxPooling2D)  (None, 3, 3, 32)    0           ['conv2d_2[0][0]']               \n",
            "                                                                                                  \n",
            " gru (GRU)                      (None, 20)           7320        ['embedding_2[0][0]']            \n",
            "                                                                                                  \n",
            " flatten_2 (Flatten)            (None, 288)          0           ['max_pooling2d_2[0][0]']        \n",
            "                                                                                                  \n",
            " tf.concat_2 (TFOpLambda)       (None, 308)          0           ['gru[0][0]',                    \n",
            "                                                                  'flatten_2[0][0]']              \n",
            "                                                                                                  \n",
            " price (Dense)                  (None, 3)            927         ['tf.concat_2[0][0]']            \n",
            "                                                                                                  \n",
            " type (Dense)                   (None, 24)           7416        ['tf.concat_2[0][0]']            \n",
            "                                                                                                  \n",
            "==================================================================================================\n",
            "Total params: 4,032,079\n",
            "Trainable params: 4,032,079\n",
            "Non-trainable params: 0\n",
            "__________________________________________________________________________________________________\n"
          ]
        }
      ],
      "source": [
        "in_text = keras.Input(batch_shape=(None, max_len))\n",
        "in_image = keras.Input(batch_shape=(None, 64, 64, 2))\n",
        "\n",
        "# text part\n",
        "embedded = keras.layers.Embedding(tokenizer.num_words, 100)(in_text)\n",
        "lstm = GRU(20)(embedded)\n",
        "\n",
        "# image part\n",
        "cov = Conv2D(32, (16, 16))(in_image)\n",
        "pl = MaxPool2D((16, 16))(cov)\n",
        "flattened = Flatten()(pl)\n",
        "\n",
        "\n",
        "# fusion\n",
        "fused = tf.concat([lstm, flattened], axis=-1)\n",
        "\n",
        "# multi-objectives\n",
        "p_price = Dense(len_price, activation='softmax', name='price')(fused)\n",
        "p_type = Dense(len_type, activation='softmax', name='type')(fused)\n",
        "\n",
        "# model\n",
        "gru_model = keras.Model(\n",
        "    inputs={\n",
        "        'summary': in_text, # text inputs\n",
        "        'image': in_image # image inputs\n",
        "    },\n",
        "    outputs={\n",
        "        'price': p_price,\n",
        "        'type': p_type,\n",
        "    },\n",
        ")\n",
        "\n",
        "gru_model.compile(\n",
        "      optimizer=Adam(learning_rate=0.001),\n",
        "      loss={\n",
        "          'price': 'sparse_categorical_crossentropy',\n",
        "          'type': 'sparse_categorical_crossentropy',\n",
        "      },\n",
        "\n",
        "      loss_weights={\n",
        "          'price': 0.5,\n",
        "          'type': 0.5,\n",
        "      },\n",
        "\n",
        "      metrics={\n",
        "          'price': ['SparseCategoricalAccuracy'],\n",
        "          'type': ['SparseCategoricalAccuracy'],\n",
        "      },\n",
        "  )\n",
        "gru_model.summary()"
      ]
    },
    {
      "cell_type": "code",
      "execution_count": null,
      "id": "be1f8f80",
      "metadata": {
        "id": "be1f8f80",
        "outputId": "23960cbc-1167-4ca0-95d7-aa36b0e1932b"
      },
      "outputs": [
        {
          "name": "stdout",
          "output_type": "stream",
          "text": [
            "Epoch 1/20\n",
            "305/305 [==============================] - 31s 97ms/step - loss: 1.0516 - price_loss: 0.8567 - type_loss: 1.2465 - price_sparse_categorical_accuracy: 0.6262 - type_sparse_categorical_accuracy: 0.7502 - val_loss: 0.9170 - val_price_loss: 0.8387 - val_type_loss: 0.9954 - val_price_sparse_categorical_accuracy: 0.6069 - val_type_sparse_categorical_accuracy: 0.7674\n",
            "Epoch 2/20\n",
            "305/305 [==============================] - 30s 100ms/step - loss: 0.9230 - price_loss: 0.8342 - type_loss: 1.0117 - price_sparse_categorical_accuracy: 0.6262 - type_sparse_categorical_accuracy: 0.7545 - val_loss: 0.9238 - val_price_loss: 0.8421 - val_type_loss: 1.0056 - val_price_sparse_categorical_accuracy: 0.6069 - val_type_sparse_categorical_accuracy: 0.7674\n",
            "Epoch 3/20\n",
            "305/305 [==============================] - 30s 100ms/step - loss: 0.9193 - price_loss: 0.8303 - type_loss: 1.0082 - price_sparse_categorical_accuracy: 0.6262 - type_sparse_categorical_accuracy: 0.7545 - val_loss: 0.9056 - val_price_loss: 0.8254 - val_type_loss: 0.9858 - val_price_sparse_categorical_accuracy: 0.6077 - val_type_sparse_categorical_accuracy: 0.7674\n",
            "Epoch 4/20\n",
            "305/305 [==============================] - 31s 100ms/step - loss: 0.8784 - price_loss: 0.7912 - type_loss: 0.9656 - price_sparse_categorical_accuracy: 0.6314 - type_sparse_categorical_accuracy: 0.7545 - val_loss: 0.8912 - val_price_loss: 0.8120 - val_type_loss: 0.9704 - val_price_sparse_categorical_accuracy: 0.6003 - val_type_sparse_categorical_accuracy: 0.7674\n",
            "Epoch 5/20\n",
            "305/305 [==============================] - 31s 103ms/step - loss: 0.8165 - price_loss: 0.7256 - type_loss: 0.9075 - price_sparse_categorical_accuracy: 0.6791 - type_sparse_categorical_accuracy: 0.7545 - val_loss: 0.8936 - val_price_loss: 0.8170 - val_type_loss: 0.9702 - val_price_sparse_categorical_accuracy: 0.6208 - val_type_sparse_categorical_accuracy: 0.7682\n",
            "Epoch 6/20\n",
            "305/305 [==============================] - 33s 109ms/step - loss: 0.7544 - price_loss: 0.6563 - type_loss: 0.8525 - price_sparse_categorical_accuracy: 0.7205 - type_sparse_categorical_accuracy: 0.7574 - val_loss: 0.9119 - val_price_loss: 0.8362 - val_type_loss: 0.9876 - val_price_sparse_categorical_accuracy: 0.6044 - val_type_sparse_categorical_accuracy: 0.7699\n",
            "Epoch 7/20\n",
            "305/305 [==============================] - 35s 115ms/step - loss: 0.6905 - price_loss: 0.5835 - type_loss: 0.7974 - price_sparse_categorical_accuracy: 0.7623 - type_sparse_categorical_accuracy: 0.7721 - val_loss: 0.9415 - val_price_loss: 0.8767 - val_type_loss: 1.0064 - val_price_sparse_categorical_accuracy: 0.6052 - val_type_sparse_categorical_accuracy: 0.7600\n",
            "Epoch 8/20\n",
            "305/305 [==============================] - 31s 103ms/step - loss: 0.6156 - price_loss: 0.5110 - type_loss: 0.7202 - price_sparse_categorical_accuracy: 0.7980 - type_sparse_categorical_accuracy: 0.7918 - val_loss: 0.9901 - val_price_loss: 0.9427 - val_type_loss: 1.0375 - val_price_sparse_categorical_accuracy: 0.5643 - val_type_sparse_categorical_accuracy: 0.7420\n",
            "Epoch 9/20\n",
            "305/305 [==============================] - 32s 104ms/step - loss: 0.5531 - price_loss: 0.4468 - type_loss: 0.6594 - price_sparse_categorical_accuracy: 0.8303 - type_sparse_categorical_accuracy: 0.8064 - val_loss: 1.0759 - val_price_loss: 1.0378 - val_type_loss: 1.1140 - val_price_sparse_categorical_accuracy: 0.5946 - val_type_sparse_categorical_accuracy: 0.7101\n",
            "Epoch 10/20\n",
            "305/305 [==============================] - 32s 105ms/step - loss: 0.4985 - price_loss: 0.3872 - type_loss: 0.6098 - price_sparse_categorical_accuracy: 0.8609 - type_sparse_categorical_accuracy: 0.8182 - val_loss: 1.1357 - val_price_loss: 1.1404 - val_type_loss: 1.1309 - val_price_sparse_categorical_accuracy: 0.5962 - val_type_sparse_categorical_accuracy: 0.7265\n",
            "Epoch 11/20\n",
            "305/305 [==============================] - 31s 102ms/step - loss: 0.4658 - price_loss: 0.3627 - type_loss: 0.5689 - price_sparse_categorical_accuracy: 0.8691 - type_sparse_categorical_accuracy: 0.8314 - val_loss: 1.1895 - val_price_loss: 1.1867 - val_type_loss: 1.1924 - val_price_sparse_categorical_accuracy: 0.5831 - val_type_sparse_categorical_accuracy: 0.7142\n",
            "Epoch 12/20\n",
            "305/305 [==============================] - 33s 108ms/step - loss: 0.4360 - price_loss: 0.3309 - type_loss: 0.5411 - price_sparse_categorical_accuracy: 0.8791 - type_sparse_categorical_accuracy: 0.8418 - val_loss: 1.2570 - val_price_loss: 1.2155 - val_type_loss: 1.2986 - val_price_sparse_categorical_accuracy: 0.5905 - val_type_sparse_categorical_accuracy: 0.7011\n",
            "Epoch 13/20\n",
            "305/305 [==============================] - 34s 112ms/step - loss: 0.4118 - price_loss: 0.3095 - type_loss: 0.5141 - price_sparse_categorical_accuracy: 0.8887 - type_sparse_categorical_accuracy: 0.8502 - val_loss: 1.2840 - val_price_loss: 1.2987 - val_type_loss: 1.2693 - val_price_sparse_categorical_accuracy: 0.5618 - val_type_sparse_categorical_accuracy: 0.7166\n",
            "Epoch 14/20\n",
            "305/305 [==============================] - 35s 116ms/step - loss: 0.3930 - price_loss: 0.2908 - type_loss: 0.4951 - price_sparse_categorical_accuracy: 0.8951 - type_sparse_categorical_accuracy: 0.8506 - val_loss: 1.3592 - val_price_loss: 1.3459 - val_type_loss: 1.3724 - val_price_sparse_categorical_accuracy: 0.6044 - val_type_sparse_categorical_accuracy: 0.7174\n"
          ]
        }
      ],
      "source": [
        "history =gru_model.fit(\n",
        "      x={\n",
        "          'summary': x_tr_text_id,\n",
        "          'image': x_tr_image\n",
        "      },\n",
        "      y={\n",
        "          'price': y_tr_price,\n",
        "          'type': y_tr_type,\n",
        "      },\n",
        "     epochs=20,\n",
        "     batch_size=16,\n",
        "     validation_data=(\n",
        "          {\n",
        "              'summary': x_vl_text_id,\n",
        "              'image': x_vl_image\n",
        "          },\n",
        "          {\n",
        "              'price': y_vl_price,\n",
        "              'type': y_vl_type,\n",
        "          }),\n",
        "      validation_split=0.2,\n",
        "      callbacks=callbacks,\n",
        "      verbose=1\n",
        "  )"
      ]
    },
    {
      "cell_type": "code",
      "execution_count": null,
      "id": "67a16ddc",
      "metadata": {
        "id": "67a16ddc",
        "outputId": "53eef0f4-6275-4efb-d137-cb1735dcb7e0"
      },
      "outputs": [
        {
          "data": {
            "image/png": "[encoded data removed]",
            "text/plain": [
              "<Figure size 864x288 with 3 Axes>"
            ]
          },
          "metadata": {
            "needs_background": "light"
          },
          "output_type": "display_data"
        }
      ],
      "source": [
        "fig, (ax1, ax2, ax3) = plt.subplots(1, 3, figsize=(12,4))\n",
        "fig.suptitle('result')\n",
        "#  training price accuracy and the validation price accuracy\n",
        "ax1.plot(history.history['price_sparse_categorical_accuracy'])\n",
        "ax1.plot(history.history['val_price_sparse_categorical_accuracy'])\n",
        "ax1.set_title('price accuracy')\n",
        "ax1.set_ylabel('accuracy')\n",
        "ax1.set_xlabel('epoch')\n",
        "ax1.legend(['train_price', 'validation_price'], loc='upper left')\n",
        "#  specified accuracy metric and type accuracy\n",
        "ax2.plot(history.history['type_sparse_categorical_accuracy'])\n",
        "ax2.plot(history.history['val_type_sparse_categorical_accuracy'])\n",
        "ax2.set_title('type accuracy')\n",
        "ax2.set_ylabel('accuracy')\n",
        "ax2.set_xlabel('epoch')\n",
        "ax2.legend(['train_type', 'validation_type'], loc='upper left')\n",
        "# the training loss and the validation loss\n",
        "ax3.plot(history.history['loss'])\n",
        "ax3.plot(history.history['val_loss'])\n",
        "ax3.set_title('model loss')\n",
        "ax3.set_ylabel('loss')\n",
        "ax3.set_xlabel('epoch')\n",
        "ax3.legend(['train', 'validation'], loc='upper left')\n",
        "plt.show() # display the figure"
      ]
    },
    {
      "cell_type": "code",
      "execution_count": null,
      "id": "54153c67",
      "metadata": {
        "id": "54153c67"
      },
      "outputs": [],
      "source": [
        "y_predict = gru_model.predict(\n",
        "      {\n",
        "          'summary': x_test_summary,\n",
        "          'image': x_test_image\n",
        "      }\n",
        "  )\n",
        "price_predicted = y_predict['price']\n",
        "price_category_predicted = np.argmax(price_predicted, axis=1)\n",
        "pd.DataFrame(\n",
        "      {'id': test.id,\n",
        "      'price': price_category_predicted}).to_csv('GRU.csv', index=False)"
      ]
    },
    {
      "cell_type": "markdown",
      "id": "yxcdzzvNRowY",
      "metadata": {
        "id": "yxcdzzvNRowY"
      },
      "source": [
        "The GRU model  improved the performance on the leaderboard. aslo not good with rgb images"
      ]
    },
    {
      "cell_type": "markdown",
      "id": "f86eeef7",
      "metadata": {
        "id": "f86eeef7"
      },
      "source": [
        "try to  add depth to the CNN for the image part"
      ]
    },
    {
      "cell_type": "markdown",
      "id": "F6sS15pfNZwh",
      "metadata": {
        "id": "F6sS15pfNZwh"
      },
      "source": [
        "#  trail  5 with drop out"
      ]
    },
    {
      "cell_type": "code",
      "execution_count": null,
      "id": "84e9f915",
      "metadata": {
        "id": "84e9f915",
        "outputId": "01b60074-329f-4d62-ddbd-f81a848ff1d4"
      },
      "outputs": [
        {
          "name": "stdout",
          "output_type": "stream",
          "text": [
            "Model: \"model_3\"\n",
            "__________________________________________________________________________________________________\n",
            " Layer (type)                   Output Shape         Param #     Connected to                     \n",
            "==================================================================================================\n",
            " input_8 (InputLayer)           [(None, 64, 64, 2)]  0           []                               \n",
            "                                                                                                  \n",
            " conv2d_3 (Conv2D)              (None, 62, 62, 32)   608         ['input_8[0][0]']                \n",
            "                                                                                                  \n",
            " max_pooling2d_3 (MaxPooling2D)  (None, 20, 20, 32)  0           ['conv2d_3[0][0]']               \n",
            "                                                                                                  \n",
            " input_7 (InputLayer)           [(None, 100)]        0           []                               \n",
            "                                                                                                  \n",
            " conv2d_4 (Conv2D)              (None, 19, 19, 32)   4128        ['max_pooling2d_3[0][0]']        \n",
            "                                                                                                  \n",
            " embedding_3 (Embedding)        (None, 100, 100)     4000000     ['input_7[0][0]']                \n",
            "                                                                                                  \n",
            " max_pooling2d_4 (MaxPooling2D)  (None, 9, 9, 32)    0           ['conv2d_4[0][0]']               \n",
            "                                                                                                  \n",
            " gru_1 (GRU)                    (None, 20)           7320        ['embedding_3[0][0]']            \n",
            "                                                                                                  \n",
            " flatten_3 (Flatten)            (None, 2592)         0           ['max_pooling2d_4[0][0]']        \n",
            "                                                                                                  \n",
            " tf.concat_3 (TFOpLambda)       (None, 2612)         0           ['gru_1[0][0]',                  \n",
            "                                                                  'flatten_3[0][0]']              \n",
            "                                                                                                  \n",
            " price (Dense)                  (None, 3)            7839        ['tf.concat_3[0][0]']            \n",
            "                                                                                                  \n",
            " type (Dense)                   (None, 24)           62712       ['tf.concat_3[0][0]']            \n",
            "                                                                                                  \n",
            "==================================================================================================\n",
            "Total params: 4,082,607\n",
            "Trainable params: 4,082,607\n",
            "Non-trainable params: 0\n",
            "__________________________________________________________________________________________________\n"
          ]
        }
      ],
      "source": [
        "in_text = keras.Input(batch_shape=(None, max_len))\n",
        "in_image = keras.Input(batch_shape=(None, 64, 64, 2))\n",
        "# text part\n",
        "embedded = keras.layers.Embedding(tokenizer.num_words, 100)(in_text)\n",
        "lstm = GRU(20)(embedded)\n",
        "\n",
        "# image part\n",
        "cov = Conv2D(32, (3, 3))(in_image)\n",
        "pl = MaxPool2D((3, 3))(cov)\n",
        "cov2 = Conv2D(32, (2,2))(pl)\n",
        "pl2 = MaxPool2D((2,2))(cov2)\n",
        "flattened = Flatten()(pl2)\n",
        "\n",
        "\n",
        "# fusion\n",
        "fused = tf.concat([lstm, flattened], axis=-1)\n",
        "p_price = Dense(len_price, activation='softmax', name='price')(fused)\n",
        "p_type = Dense(len_type, activation='softmax', name='type')(fused)\n",
        "\n",
        "# model\n",
        "cnn_model = keras.Model(\n",
        "    inputs={\n",
        "        'summary': in_text, # text inputs\n",
        "        'image': in_image # image inputs\n",
        "    },\n",
        "    outputs={\n",
        "        'price': p_price,\n",
        "        'type': p_type,\n",
        "    },\n",
        ")\n",
        "\n",
        "\n",
        "cnn_model.compile(\n",
        "      optimizer=Adam(learning_rate=0.001),\n",
        "      loss={\n",
        "          'price': 'sparse_categorical_crossentropy',\n",
        "          'type': 'sparse_categorical_crossentropy',\n",
        "      },\n",
        "\n",
        "      loss_weights={\n",
        "          'price': 0.5,\n",
        "          'type': 0.5,\n",
        "      },\n",
        "\n",
        "      metrics={\n",
        "          'price': ['SparseCategoricalAccuracy'],\n",
        "          'type': ['SparseCategoricalAccuracy'],\n",
        "      },\n",
        "  )\n",
        "cnn_model.summary()"
      ]
    },
    {
      "cell_type": "code",
      "execution_count": null,
      "id": "0c25d2e1",
      "metadata": {
        "id": "0c25d2e1",
        "outputId": "cca73822-4982-4c29-9f5d-3eb428108149"
      },
      "outputs": [
        {
          "name": "stdout",
          "output_type": "stream",
          "text": [
            "Epoch 1/20\n",
            "305/305 [==============================] - 24s 74ms/step - loss: 0.9841 - price_loss: 0.8526 - type_loss: 1.1156 - price_sparse_categorical_accuracy: 0.6262 - type_sparse_categorical_accuracy: 0.7494 - val_loss: 0.9334 - val_price_loss: 0.8488 - val_type_loss: 1.0179 - val_price_sparse_categorical_accuracy: 0.6069 - val_type_sparse_categorical_accuracy: 0.7674\n",
            "Epoch 2/20\n",
            "305/305 [==============================] - 22s 71ms/step - loss: 0.9290 - price_loss: 0.8364 - type_loss: 1.0217 - price_sparse_categorical_accuracy: 0.6262 - type_sparse_categorical_accuracy: 0.7545 - val_loss: 0.9219 - val_price_loss: 0.8375 - val_type_loss: 1.0063 - val_price_sparse_categorical_accuracy: 0.6069 - val_type_sparse_categorical_accuracy: 0.7674\n",
            "Epoch 3/20\n",
            "305/305 [==============================] - 22s 72ms/step - loss: 0.9277 - price_loss: 0.8363 - type_loss: 1.0191 - price_sparse_categorical_accuracy: 0.6262 - type_sparse_categorical_accuracy: 0.7545 - val_loss: 0.9193 - val_price_loss: 0.8369 - val_type_loss: 1.0016 - val_price_sparse_categorical_accuracy: 0.6069 - val_type_sparse_categorical_accuracy: 0.7674\n",
            "Epoch 4/20\n",
            "305/305 [==============================] - 21s 68ms/step - loss: 0.9138 - price_loss: 0.8321 - type_loss: 0.9954 - price_sparse_categorical_accuracy: 0.6262 - type_sparse_categorical_accuracy: 0.7545 - val_loss: 0.8989 - val_price_loss: 0.8360 - val_type_loss: 0.9617 - val_price_sparse_categorical_accuracy: 0.6069 - val_type_sparse_categorical_accuracy: 0.7674\n",
            "Epoch 5/20\n",
            "305/305 [==============================] - 20s 65ms/step - loss: 0.8394 - price_loss: 0.7987 - type_loss: 0.8802 - price_sparse_categorical_accuracy: 0.6248 - type_sparse_categorical_accuracy: 0.7609 - val_loss: 0.8904 - val_price_loss: 0.8240 - val_type_loss: 0.9569 - val_price_sparse_categorical_accuracy: 0.6159 - val_type_sparse_categorical_accuracy: 0.7633\n",
            "Epoch 6/20\n",
            "305/305 [==============================] - 20s 67ms/step - loss: 0.7602 - price_loss: 0.7641 - type_loss: 0.7563 - price_sparse_categorical_accuracy: 0.6268 - type_sparse_categorical_accuracy: 0.7830 - val_loss: 0.8987 - val_price_loss: 0.8222 - val_type_loss: 0.9753 - val_price_sparse_categorical_accuracy: 0.6085 - val_type_sparse_categorical_accuracy: 0.7633\n",
            "Epoch 7/20\n",
            "305/305 [==============================] - 22s 71ms/step - loss: 0.6904 - price_loss: 0.7093 - type_loss: 0.6714 - price_sparse_categorical_accuracy: 0.6602 - type_sparse_categorical_accuracy: 0.7990 - val_loss: 0.9598 - val_price_loss: 0.8360 - val_type_loss: 1.0837 - val_price_sparse_categorical_accuracy: 0.6134 - val_type_sparse_categorical_accuracy: 0.7346\n",
            "Epoch 8/20\n",
            "305/305 [==============================] - 21s 68ms/step - loss: 0.6145 - price_loss: 0.6111 - type_loss: 0.6179 - price_sparse_categorical_accuracy: 0.7477 - type_sparse_categorical_accuracy: 0.8121 - val_loss: 1.0115 - val_price_loss: 0.8584 - val_type_loss: 1.1646 - val_price_sparse_categorical_accuracy: 0.6175 - val_type_sparse_categorical_accuracy: 0.7232\n",
            "Epoch 9/20\n",
            "305/305 [==============================] - 20s 66ms/step - loss: 0.5392 - price_loss: 0.4922 - type_loss: 0.5862 - price_sparse_categorical_accuracy: 0.8170 - type_sparse_categorical_accuracy: 0.8182 - val_loss: 1.1091 - val_price_loss: 0.9543 - val_type_loss: 1.2639 - val_price_sparse_categorical_accuracy: 0.6069 - val_type_sparse_categorical_accuracy: 0.7011\n",
            "Epoch 10/20\n",
            "305/305 [==============================] - 21s 69ms/step - loss: 0.4773 - price_loss: 0.4029 - type_loss: 0.5516 - price_sparse_categorical_accuracy: 0.8502 - type_sparse_categorical_accuracy: 0.8295 - val_loss: 1.1631 - val_price_loss: 1.0687 - val_type_loss: 1.2575 - val_price_sparse_categorical_accuracy: 0.5962 - val_type_sparse_categorical_accuracy: 0.7207\n",
            "Epoch 11/20\n",
            "305/305 [==============================] - 21s 69ms/step - loss: 0.4322 - price_loss: 0.3385 - type_loss: 0.5259 - price_sparse_categorical_accuracy: 0.8723 - type_sparse_categorical_accuracy: 0.8375 - val_loss: 1.2613 - val_price_loss: 1.1670 - val_type_loss: 1.3556 - val_price_sparse_categorical_accuracy: 0.6028 - val_type_sparse_categorical_accuracy: 0.7125\n",
            "Epoch 12/20\n",
            "305/305 [==============================] - 22s 71ms/step - loss: 0.3976 - price_loss: 0.2946 - type_loss: 0.5005 - price_sparse_categorical_accuracy: 0.8930 - type_sparse_categorical_accuracy: 0.8449 - val_loss: 1.3070 - val_price_loss: 1.2640 - val_type_loss: 1.3500 - val_price_sparse_categorical_accuracy: 0.6052 - val_type_sparse_categorical_accuracy: 0.7199\n",
            "Epoch 13/20\n",
            "305/305 [==============================] - 23s 75ms/step - loss: 0.3632 - price_loss: 0.2600 - type_loss: 0.4664 - price_sparse_categorical_accuracy: 0.9074 - type_sparse_categorical_accuracy: 0.8578 - val_loss: 1.3997 - val_price_loss: 1.3755 - val_type_loss: 1.4240 - val_price_sparse_categorical_accuracy: 0.6036 - val_type_sparse_categorical_accuracy: 0.7158\n",
            "Epoch 14/20\n",
            "305/305 [==============================] - 21s 69ms/step - loss: 0.3334 - price_loss: 0.2281 - type_loss: 0.4387 - price_sparse_categorical_accuracy: 0.9164 - type_sparse_categorical_accuracy: 0.8660 - val_loss: 1.4681 - val_price_loss: 1.3879 - val_type_loss: 1.5482 - val_price_sparse_categorical_accuracy: 0.5872 - val_type_sparse_categorical_accuracy: 0.6544\n",
            "Epoch 15/20\n",
            "305/305 [==============================] - 22s 73ms/step - loss: 0.3075 - price_loss: 0.2128 - type_loss: 0.4022 - price_sparse_categorical_accuracy: 0.9240 - type_sparse_categorical_accuracy: 0.8807 - val_loss: 1.5515 - val_price_loss: 1.5539 - val_type_loss: 1.5490 - val_price_sparse_categorical_accuracy: 0.5766 - val_type_sparse_categorical_accuracy: 0.6888\n",
            "Epoch 16/20\n",
            "305/305 [==============================] - 22s 72ms/step - loss: 0.2804 - price_loss: 0.1910 - type_loss: 0.3698 - price_sparse_categorical_accuracy: 0.9326 - type_sparse_categorical_accuracy: 0.8945 - val_loss: 1.5917 - val_price_loss: 1.6499 - val_type_loss: 1.5336 - val_price_sparse_categorical_accuracy: 0.5864 - val_type_sparse_categorical_accuracy: 0.7027\n"
          ]
        }
      ],
      "source": [
        "history =cnn_model.fit(\n",
        "      x={\n",
        "          'summary': x_tr_text_id,\n",
        "          'image': x_tr_image\n",
        "      },\n",
        "      y={\n",
        "          'price': y_tr_price,\n",
        "          'type': y_tr_type,\n",
        "      },\n",
        "     epochs=20,\n",
        "     batch_size=16,\n",
        "     validation_data=(\n",
        "          {\n",
        "              'summary': x_vl_text_id,\n",
        "              'image': x_vl_image\n",
        "          },\n",
        "          {\n",
        "              'price': y_vl_price,\n",
        "              'type': y_vl_type,\n",
        "          }),\n",
        "      validation_split=0.2,\n",
        "      callbacks=callbacks,\n",
        "      verbose=1\n",
        "  )"
      ]
    },
    {
      "cell_type": "code",
      "execution_count": null,
      "id": "1eb13a20",
      "metadata": {
        "id": "1eb13a20",
        "outputId": "1db61fdb-4605-48a7-d999-e74b3f416e58"
      },
      "outputs": [
        {
          "data": {
            "image/png": "[encoded data removed]",
            "text/plain": [
              "<Figure size 864x288 with 3 Axes>"
            ]
          },
          "metadata": {
            "needs_background": "light"
          },
          "output_type": "display_data"
        }
      ],
      "source": [
        "# from these results, it looks like we're starting to overfit\n",
        "fig, (ax1, ax2, ax3) = plt.subplots(1, 3, figsize=(12,4))\n",
        "fig.suptitle('result')\n",
        "#  training price accuracy and the validation price accuracy\n",
        "ax1.plot(history.history['price_sparse_categorical_accuracy'])\n",
        "ax1.plot(history.history['val_price_sparse_categorical_accuracy'])\n",
        "ax1.set_title('price accuracy')\n",
        "ax1.set_ylabel('accuracy')\n",
        "ax1.set_xlabel('epoch')\n",
        "ax1.legend(['train_price', 'validation_price'], loc='upper left')\n",
        "#  specified accuracy metric and type accuracy\n",
        "ax2.plot(history.history['type_sparse_categorical_accuracy'])\n",
        "ax2.plot(history.history['val_type_sparse_categorical_accuracy'])\n",
        "ax2.set_title('type accuracy')\n",
        "ax2.set_ylabel('accuracy')\n",
        "ax2.set_xlabel('epoch')\n",
        "ax2.legend(['train_type', 'validation_type'], loc='upper left')\n",
        "# the training loss and the validation loss\n",
        "ax3.plot(history.history['loss'])\n",
        "ax3.plot(history.history['val_loss'])\n",
        "ax3.set_title('model loss')\n",
        "ax3.set_ylabel('loss')\n",
        "ax3.set_xlabel('epoch')\n",
        "ax3.legend(['train', 'validation'], loc='upper left')\n",
        "plt.show() # display the figure"
      ]
    },
    {
      "cell_type": "code",
      "execution_count": null,
      "id": "84eba391",
      "metadata": {
        "id": "84eba391"
      },
      "outputs": [],
      "source": [
        "y_predict = cnn_model.predict(\n",
        "      {\n",
        "          'summary': x_test_summary,\n",
        "          'image': x_test_image\n",
        "      }\n",
        "  )\n",
        "price_predicted = y_predict['price']\n",
        "price_category_predicted = np.argmax(price_predicted, axis=1)\n",
        "pd.DataFrame(\n",
        "      {'id': test.id,\n",
        "      'price': price_category_predicted}).to_csv('drop_out.csv', index=False)"
      ]
    },
    {
      "cell_type": "markdown",
      "id": "aQDUU1_0RuEI",
      "metadata": {
        "id": "aQDUU1_0RuEI"
      },
      "source": [
        "slight performance improvement  but this also resulted in overfitting.also not good with bgr images"
      ]
    },
    {
      "cell_type": "markdown",
      "id": "311da710",
      "metadata": {
        "id": "311da710"
      },
      "source": [
        "try to add bidirectionality to the GRU layer."
      ]
    },
    {
      "cell_type": "markdown",
      "id": "sE6MPoQ1Nik4",
      "metadata": {
        "id": "sE6MPoQ1Nik4"
      },
      "source": [
        "# trail 6 with bidirectional"
      ]
    },
    {
      "cell_type": "code",
      "execution_count": null,
      "id": "11dc1ba2",
      "metadata": {
        "id": "11dc1ba2",
        "outputId": "97443fc9-58ab-47be-be59-29a1c8145930"
      },
      "outputs": [
        {
          "name": "stdout",
          "output_type": "stream",
          "text": [
            "Model: \"model_4\"\n",
            "__________________________________________________________________________________________________\n",
            " Layer (type)                   Output Shape         Param #     Connected to                     \n",
            "==================================================================================================\n",
            " input_10 (InputLayer)          [(None, 64, 64, 2)]  0           []                               \n",
            "                                                                                                  \n",
            " conv2d_5 (Conv2D)              (None, 62, 62, 32)   608         ['input_10[0][0]']               \n",
            "                                                                                                  \n",
            " max_pooling2d_5 (MaxPooling2D)  (None, 20, 20, 32)  0           ['conv2d_5[0][0]']               \n",
            "                                                                                                  \n",
            " input_9 (InputLayer)           [(None, 100)]        0           []                               \n",
            "                                                                                                  \n",
            " conv2d_6 (Conv2D)              (None, 19, 19, 32)   4128        ['max_pooling2d_5[0][0]']        \n",
            "                                                                                                  \n",
            " embedding_4 (Embedding)        (None, 100, 100)     4000000     ['input_9[0][0]']                \n",
            "                                                                                                  \n",
            " max_pooling2d_6 (MaxPooling2D)  (None, 9, 9, 32)    0           ['conv2d_6[0][0]']               \n",
            "                                                                                                  \n",
            " bidirectional (Bidirectional)  (None, 40)           14640       ['embedding_4[0][0]']            \n",
            "                                                                                                  \n",
            " flatten_4 (Flatten)            (None, 2592)         0           ['max_pooling2d_6[0][0]']        \n",
            "                                                                                                  \n",
            " tf.concat_4 (TFOpLambda)       (None, 2632)         0           ['bidirectional[0][0]',          \n",
            "                                                                  'flatten_4[0][0]']              \n",
            "                                                                                                  \n",
            " price (Dense)                  (None, 3)            7899        ['tf.concat_4[0][0]']            \n",
            "                                                                                                  \n",
            " type (Dense)                   (None, 24)           63192       ['tf.concat_4[0][0]']            \n",
            "                                                                                                  \n",
            "==================================================================================================\n",
            "Total params: 4,090,467\n",
            "Trainable params: 4,090,467\n",
            "Non-trainable params: 0\n",
            "__________________________________________________________________________________________________\n"
          ]
        }
      ],
      "source": [
        "\n",
        "\n",
        "in_text = keras.Input(batch_shape=(None, max_len))\n",
        "in_image = keras.Input(batch_shape=(None, 64, 64, 2))\n",
        "\n",
        "# text part\n",
        "embedded = keras.layers.Embedding(tokenizer.num_words, 100)(in_text)\n",
        "bi_lstm = Bidirectional(GRU(20))(embedded) # creating a bidirectional GRU layer, with 20 units as before\n",
        "\n",
        "# image part\n",
        "cov = Conv2D(32, (3, 3))(in_image) # convolutional layer with 32 filters, and a 16x16 mask, no padding\n",
        "pl = MaxPool2D((3, 3))(cov) # max pooling with a 3x3 mask, reducing the size to 20x20x32\n",
        "cov2 = Conv2D(32, (2,2))(pl) # convolutional layer with 32 filters, and a 2x2 mask, no padding\n",
        "pl2 = MaxPool2D((2,2))(cov2) # max pooling with a 2x2 mask, reducing the size to 9x9x32\n",
        "flattened = Flatten()(pl2) # flatten the shape to (2592,)\n",
        "\n",
        "\n",
        "# fusion\n",
        "fused = tf.concat([bi_lstm, flattened], axis=-1) # concatenate text features with images\n",
        "\n",
        "# multi-objectives\n",
        "p_price = Dense(len_price, activation='softmax', name='price')(fused)\n",
        "p_type = Dense(len_type, activation='softmax', name='type')(fused)\n",
        "\n",
        "# model\n",
        "bi_lstm_model = keras.Model(\n",
        "    inputs={\n",
        "        'summary': in_text, # text inputs\n",
        "        'image': in_image # image inputs\n",
        "    },\n",
        "    outputs={\n",
        "        'price': p_price,\n",
        "        'type': p_type,\n",
        "    },\n",
        ")\n",
        "\n",
        "# compiling the bidirectional model\n",
        "bi_lstm_model.compile(\n",
        "      optimizer=Adam(learning_rate=0.001),\n",
        "      loss={\n",
        "          'price': 'sparse_categorical_crossentropy',\n",
        "          'type': 'sparse_categorical_crossentropy',\n",
        "      },\n",
        "\n",
        "      loss_weights={\n",
        "          'price': 0.5,\n",
        "          'type': 0.5,\n",
        "      },\n",
        "\n",
        "      metrics={\n",
        "          'price': ['SparseCategoricalAccuracy'],\n",
        "          'type': ['SparseCategoricalAccuracy'],\n",
        "      },\n",
        "  )\n",
        "bi_lstm_model.summary()"
      ]
    },
    {
      "cell_type": "code",
      "execution_count": null,
      "id": "0d85c341",
      "metadata": {
        "id": "0d85c341",
        "outputId": "314a33d3-b67c-47f0-d262-b02bb8b23b9d"
      },
      "outputs": [
        {
          "name": "stdout",
          "output_type": "stream",
          "text": [
            "Epoch 1/20\n",
            "305/305 [==============================] - 27s 80ms/step - loss: 0.9526 - price_loss: 0.8298 - type_loss: 1.0754 - price_sparse_categorical_accuracy: 0.6277 - type_sparse_categorical_accuracy: 0.7488 - val_loss: 0.8876 - val_price_loss: 0.8222 - val_type_loss: 0.9530 - val_price_sparse_categorical_accuracy: 0.5815 - val_type_sparse_categorical_accuracy: 0.7674\n",
            "Epoch 2/20\n",
            "305/305 [==============================] - 23s 77ms/step - loss: 0.8038 - price_loss: 0.7317 - type_loss: 0.8760 - price_sparse_categorical_accuracy: 0.6732 - type_sparse_categorical_accuracy: 0.7627 - val_loss: 0.8432 - val_price_loss: 0.7918 - val_type_loss: 0.8946 - val_price_sparse_categorical_accuracy: 0.6405 - val_type_sparse_categorical_accuracy: 0.7740\n",
            "Epoch 3/20\n",
            "305/305 [==============================] - 26s 85ms/step - loss: 0.7211 - price_loss: 0.6650 - type_loss: 0.7772 - price_sparse_categorical_accuracy: 0.7139 - type_sparse_categorical_accuracy: 0.7805 - val_loss: 0.8796 - val_price_loss: 0.8513 - val_type_loss: 0.9079 - val_price_sparse_categorical_accuracy: 0.6388 - val_type_sparse_categorical_accuracy: 0.7797\n",
            "Epoch 4/20\n",
            "305/305 [==============================] - 25s 82ms/step - loss: 0.6525 - price_loss: 0.6056 - type_loss: 0.6995 - price_sparse_categorical_accuracy: 0.7457 - type_sparse_categorical_accuracy: 0.8031 - val_loss: 0.8857 - val_price_loss: 0.8369 - val_type_loss: 0.9344 - val_price_sparse_categorical_accuracy: 0.6331 - val_type_sparse_categorical_accuracy: 0.7543\n",
            "Epoch 5/20\n",
            "305/305 [==============================] - 24s 80ms/step - loss: 0.5883 - price_loss: 0.5410 - type_loss: 0.6357 - price_sparse_categorical_accuracy: 0.7838 - type_sparse_categorical_accuracy: 0.8193 - val_loss: 0.8989 - val_price_loss: 0.8361 - val_type_loss: 0.9617 - val_price_sparse_categorical_accuracy: 0.6486 - val_type_sparse_categorical_accuracy: 0.7477\n",
            "Epoch 6/20\n",
            "305/305 [==============================] - 25s 80ms/step - loss: 0.5338 - price_loss: 0.4831 - type_loss: 0.5845 - price_sparse_categorical_accuracy: 0.8117 - type_sparse_categorical_accuracy: 0.8348 - val_loss: 0.9728 - val_price_loss: 0.9229 - val_type_loss: 1.0227 - val_price_sparse_categorical_accuracy: 0.6396 - val_type_sparse_categorical_accuracy: 0.7453\n",
            "Epoch 7/20\n",
            "305/305 [==============================] - 23s 76ms/step - loss: 0.4878 - price_loss: 0.4363 - type_loss: 0.5393 - price_sparse_categorical_accuracy: 0.8318 - type_sparse_categorical_accuracy: 0.8500 - val_loss: 1.0279 - val_price_loss: 0.9760 - val_type_loss: 1.0797 - val_price_sparse_categorical_accuracy: 0.6388 - val_type_sparse_categorical_accuracy: 0.7199\n",
            "Epoch 8/20\n",
            "305/305 [==============================] - 24s 79ms/step - loss: 0.4453 - price_loss: 0.3940 - type_loss: 0.4967 - price_sparse_categorical_accuracy: 0.8545 - type_sparse_categorical_accuracy: 0.8666 - val_loss: 1.0691 - val_price_loss: 1.0593 - val_type_loss: 1.0788 - val_price_sparse_categorical_accuracy: 0.6429 - val_type_sparse_categorical_accuracy: 0.7584\n",
            "Epoch 9/20\n",
            "305/305 [==============================] - 25s 83ms/step - loss: 0.4080 - price_loss: 0.3669 - type_loss: 0.4490 - price_sparse_categorical_accuracy: 0.8590 - type_sparse_categorical_accuracy: 0.8826 - val_loss: 1.1337 - val_price_loss: 1.0998 - val_type_loss: 1.1675 - val_price_sparse_categorical_accuracy: 0.6249 - val_type_sparse_categorical_accuracy: 0.7453\n",
            "Epoch 10/20\n",
            "305/305 [==============================] - 26s 84ms/step - loss: 0.3774 - price_loss: 0.3410 - type_loss: 0.4138 - price_sparse_categorical_accuracy: 0.8727 - type_sparse_categorical_accuracy: 0.8893 - val_loss: 1.1802 - val_price_loss: 1.1593 - val_type_loss: 1.2011 - val_price_sparse_categorical_accuracy: 0.6429 - val_type_sparse_categorical_accuracy: 0.7445\n",
            "Epoch 11/20\n",
            "305/305 [==============================] - 22s 73ms/step - loss: 0.3389 - price_loss: 0.3057 - type_loss: 0.3721 - price_sparse_categorical_accuracy: 0.8861 - type_sparse_categorical_accuracy: 0.9006 - val_loss: 1.2832 - val_price_loss: 1.2644 - val_type_loss: 1.3021 - val_price_sparse_categorical_accuracy: 0.6388 - val_type_sparse_categorical_accuracy: 0.7125\n",
            "Epoch 12/20\n",
            "305/305 [==============================] - 22s 71ms/step - loss: 0.3089 - price_loss: 0.2850 - type_loss: 0.3329 - price_sparse_categorical_accuracy: 0.8912 - type_sparse_categorical_accuracy: 0.9150 - val_loss: 1.2993 - val_price_loss: 1.3020 - val_type_loss: 1.2967 - val_price_sparse_categorical_accuracy: 0.6233 - val_type_sparse_categorical_accuracy: 0.7281\n"
          ]
        }
      ],
      "source": [
        "history =bi_lstm_model.fit(\n",
        "      x={\n",
        "          'summary': x_tr_text_id,\n",
        "          'image': x_tr_image\n",
        "      },\n",
        "      y={\n",
        "          'price': y_tr_price,\n",
        "          'type': y_tr_type,\n",
        "      },\n",
        "     epochs=20,\n",
        "     batch_size=16,\n",
        "     validation_data=(\n",
        "          {\n",
        "              'summary': x_vl_text_id,\n",
        "              'image': x_vl_image\n",
        "          },\n",
        "          {\n",
        "              'price': y_vl_price,\n",
        "              'type': y_vl_type,\n",
        "          }),\n",
        "      validation_split=0.2,\n",
        "      callbacks=callbacks,\n",
        "      verbose=1\n",
        "  )"
      ]
    },
    {
      "cell_type": "code",
      "execution_count": null,
      "id": "fa965b32",
      "metadata": {
        "id": "fa965b32",
        "outputId": "3b018a5f-a5e1-4868-d975-3425df00251c"
      },
      "outputs": [
        {
          "data": {
            "image/png": "[encoded data removed]",
            "text/plain": [
              "<Figure size 864x288 with 3 Axes>"
            ]
          },
          "metadata": {
            "needs_background": "light"
          },
          "output_type": "display_data"
        }
      ],
      "source": [
        "# Still overfitting\n",
        "fig, (ax1, ax2, ax3) = plt.subplots(1, 3, figsize=(12,4))\n",
        "fig.suptitle('result')\n",
        "#  training price accuracy and the validation price accuracy\n",
        "ax1.plot(history.history['price_sparse_categorical_accuracy'])\n",
        "ax1.plot(history.history['val_price_sparse_categorical_accuracy'])\n",
        "ax1.set_title('price accuracy')\n",
        "ax1.set_ylabel('accuracy')\n",
        "ax1.set_xlabel('epoch')\n",
        "ax1.legend(['train_price', 'validation_price'], loc='upper left')\n",
        "#  specified accuracy metric and type accuracy\n",
        "ax2.plot(history.history['type_sparse_categorical_accuracy'])\n",
        "ax2.plot(history.history['val_type_sparse_categorical_accuracy'])\n",
        "ax2.set_title('type accuracy')\n",
        "ax2.set_ylabel('accuracy')\n",
        "ax2.set_xlabel('epoch')\n",
        "ax2.legend(['train_type', 'validation_type'], loc='upper left')\n",
        "# the training loss and the validation loss\n",
        "ax3.plot(history.history['loss'])\n",
        "ax3.plot(history.history['val_loss'])\n",
        "ax3.set_title('model loss')\n",
        "ax3.set_ylabel('loss')\n",
        "ax3.set_xlabel('epoch')\n",
        "ax3.legend(['train', 'validation'], loc='upper left')\n",
        "plt.show() # display the figure"
      ]
    },
    {
      "cell_type": "code",
      "execution_count": null,
      "id": "b721342f",
      "metadata": {
        "id": "b721342f"
      },
      "outputs": [],
      "source": [
        "\n",
        "y_predict = bi_lstm_model.predict(\n",
        "      {\n",
        "          'summary': x_test_summary,\n",
        "          'image': x_test_image\n",
        "      }\n",
        "  )\n",
        "price_predicted = y_predict['price']\n",
        "price_category_predicted = np.argmax(price_predicted, axis=1)\n",
        "pd.DataFrame(\n",
        "      {'id': test.id,\n",
        "      'price': price_category_predicted}).to_csv('bidirectional.csv', index=False)"
      ]
    },
    {
      "cell_type": "markdown",
      "id": "BccLvdo3Rvt4",
      "metadata": {
        "id": "BccLvdo3Rvt4"
      },
      "source": [
        " still overfitting, and not improved the performance"
      ]
    },
    {
      "cell_type": "markdown",
      "id": "f0bfc324",
      "metadata": {
        "id": "f0bfc324"
      },
      "source": [
        " Add drop-out regularization in the image  to reduce the overfitting .\n",
        " using L2  regularization on the text"
      ]
    },
    {
      "cell_type": "markdown",
      "id": "kza2f1l7NuQx",
      "metadata": {
        "id": "kza2f1l7NuQx"
      },
      "source": [
        "# trail 7 with regularization"
      ]
    },
    {
      "cell_type": "code",
      "execution_count": null,
      "id": "2aaad732",
      "metadata": {
        "id": "2aaad732",
        "outputId": "28ac1c6b-a745-48f5-c281-c9c6799923ae"
      },
      "outputs": [
        {
          "name": "stdout",
          "output_type": "stream",
          "text": [
            "Model: \"model_5\"\n",
            "__________________________________________________________________________________________________\n",
            " Layer (type)                   Output Shape         Param #     Connected to                     \n",
            "==================================================================================================\n",
            " input_12 (InputLayer)          [(None, 64, 64, 2)]  0           []                               \n",
            "                                                                                                  \n",
            " conv2d_7 (Conv2D)              (None, 62, 62, 32)   608         ['input_12[0][0]']               \n",
            "                                                                                                  \n",
            " dropout (Dropout)              (None, 62, 62, 32)   0           ['conv2d_7[0][0]']               \n",
            "                                                                                                  \n",
            " max_pooling2d_7 (MaxPooling2D)  (None, 20, 20, 32)  0           ['dropout[0][0]']                \n",
            "                                                                                                  \n",
            " conv2d_8 (Conv2D)              (None, 19, 19, 32)   4128        ['max_pooling2d_7[0][0]']        \n",
            "                                                                                                  \n",
            " input_11 (InputLayer)          [(None, 100)]        0           []                               \n",
            "                                                                                                  \n",
            " dropout_1 (Dropout)            (None, 19, 19, 32)   0           ['conv2d_8[0][0]']               \n",
            "                                                                                                  \n",
            " embedding_5 (Embedding)        (None, 100, 100)     4000000     ['input_11[0][0]']               \n",
            "                                                                                                  \n",
            " max_pooling2d_8 (MaxPooling2D)  (None, 9, 9, 32)    0           ['dropout_1[0][0]']              \n",
            "                                                                                                  \n",
            " bidirectional_1 (Bidirectional  (None, 40)          14640       ['embedding_5[0][0]']            \n",
            " )                                                                                                \n",
            "                                                                                                  \n",
            " flatten_5 (Flatten)            (None, 2592)         0           ['max_pooling2d_8[0][0]']        \n",
            "                                                                                                  \n",
            " tf.concat_5 (TFOpLambda)       (None, 2632)         0           ['bidirectional_1[0][0]',        \n",
            "                                                                  'flatten_5[0][0]']              \n",
            "                                                                                                  \n",
            " price (Dense)                  (None, 3)            7899        ['tf.concat_5[0][0]']            \n",
            "                                                                                                  \n",
            " type (Dense)                   (None, 24)           63192       ['tf.concat_5[0][0]']            \n",
            "                                                                                                  \n",
            "==================================================================================================\n",
            "Total params: 4,090,467\n",
            "Trainable params: 4,090,467\n",
            "Non-trainable params: 0\n",
            "__________________________________________________________________________________________________\n"
          ]
        }
      ],
      "source": [
        "in_text = keras.Input(batch_shape=(None, max_len))\n",
        "in_image = keras.Input(batch_shape=(None, 64, 64, 2))\n",
        "\n",
        "# text part\n",
        "embedded = keras.layers.Embedding(tokenizer.num_words, 100)(in_text)\n",
        "bi_lstm = Bidirectional(GRU(20, recurrent_regularizer='l2'))(embedded) # adding quadratic regularizer\n",
        "\n",
        "# image part\n",
        "cov = Conv2D(32, (3, 3))(in_image)\n",
        "drop = Dropout(0.2)(cov)\n",
        "pl = MaxPool2D((3, 3))(drop)\n",
        "cov2 = Conv2D(32, (2,2))(pl)\n",
        "drop2 = Dropout(0.2)(cov2)\n",
        "pl2 = MaxPool2D((2,2))(drop2)\n",
        "flattened = Flatten()(pl2)\n",
        "\n",
        "\n",
        "# fusion\n",
        "fused = tf.concat([bi_lstm, flattened], axis=-1)\n",
        "\n",
        "# multi-objectives\n",
        "p_price = Dense(len_price, activation='softmax', name='price')(fused)\n",
        "p_type = Dense(len_type, activation='softmax', name='type')(fused)\n",
        "\n",
        "# model definition\n",
        "bi_lstm_model = keras.Model(\n",
        "    inputs={\n",
        "        'summary': in_text, # text inputs\n",
        "        'image': in_image # image inputs\n",
        "    },\n",
        "    outputs={\n",
        "        'price': p_price,\n",
        "        'type': p_type,\n",
        "    },\n",
        ")\n",
        "\n",
        "bi_lstm_model.compile(\n",
        "      optimizer=Adam(learning_rate=0.001),\n",
        "      loss={\n",
        "          'price': 'sparse_categorical_crossentropy',\n",
        "          'type': 'sparse_categorical_crossentropy',\n",
        "      },\n",
        "\n",
        "      loss_weights={\n",
        "          'price': 0.5,\n",
        "          'type': 0.5,\n",
        "      },\n",
        "\n",
        "      metrics={\n",
        "          'price': ['SparseCategoricalAccuracy'],\n",
        "          'type': ['SparseCategoricalAccuracy'],\n",
        "      },\n",
        "  )\n",
        "bi_lstm_model.summary()"
      ]
    },
    {
      "cell_type": "code",
      "execution_count": null,
      "id": "b7ec2946",
      "metadata": {
        "id": "b7ec2946",
        "outputId": "d4508e8e-4ce8-4ce7-92fc-4efe9269059a"
      },
      "outputs": [
        {
          "name": "stdout",
          "output_type": "stream",
          "text": [
            "Epoch 1/20\n",
            "77/77 [==============================] - 22s 241ms/step - loss: 1.3887 - price_loss: 0.8711 - type_loss: 1.3891 - price_sparse_categorical_accuracy: 0.6238 - type_sparse_categorical_accuracy: 0.7453 - val_loss: 1.1610 - val_price_loss: 0.9149 - val_type_loss: 1.1034 - val_price_sparse_categorical_accuracy: 0.6069 - val_type_sparse_categorical_accuracy: 0.7674\n",
            "Epoch 2/20\n",
            "77/77 [==============================] - 17s 217ms/step - loss: 0.9991 - price_loss: 0.8062 - type_loss: 0.9919 - price_sparse_categorical_accuracy: 0.6293 - type_sparse_categorical_accuracy: 0.7545 - val_loss: 0.9742 - val_price_loss: 0.8190 - val_type_loss: 1.0067 - val_price_sparse_categorical_accuracy: 0.6233 - val_type_sparse_categorical_accuracy: 0.7674\n",
            "Epoch 3/20\n",
            "77/77 [==============================] - 17s 225ms/step - loss: 0.8726 - price_loss: 0.7377 - type_loss: 0.9180 - price_sparse_categorical_accuracy: 0.6697 - type_sparse_categorical_accuracy: 0.7564 - val_loss: 0.9273 - val_price_loss: 0.7876 - val_type_loss: 1.0018 - val_price_sparse_categorical_accuracy: 0.6290 - val_type_sparse_categorical_accuracy: 0.7690\n",
            "Epoch 4/20\n",
            "77/77 [==============================] - 17s 226ms/step - loss: 0.7904 - price_loss: 0.6847 - type_loss: 0.8383 - price_sparse_categorical_accuracy: 0.7051 - type_sparse_categorical_accuracy: 0.7695 - val_loss: 0.9331 - val_price_loss: 0.8143 - val_type_loss: 1.0048 - val_price_sparse_categorical_accuracy: 0.6331 - val_type_sparse_categorical_accuracy: 0.7723\n",
            "Epoch 5/20\n",
            "77/77 [==============================] - 18s 231ms/step - loss: 0.7323 - price_loss: 0.6353 - type_loss: 0.7806 - price_sparse_categorical_accuracy: 0.7285 - type_sparse_categorical_accuracy: 0.7781 - val_loss: 0.9281 - val_price_loss: 0.8461 - val_type_loss: 0.9641 - val_price_sparse_categorical_accuracy: 0.6224 - val_type_sparse_categorical_accuracy: 0.7731\n",
            "Epoch 6/20\n",
            "77/77 [==============================] - 18s 229ms/step - loss: 0.6833 - price_loss: 0.5875 - type_loss: 0.7284 - price_sparse_categorical_accuracy: 0.7564 - type_sparse_categorical_accuracy: 0.7914 - val_loss: 0.9813 - val_price_loss: 0.8939 - val_type_loss: 1.0187 - val_price_sparse_categorical_accuracy: 0.6314 - val_type_sparse_categorical_accuracy: 0.7756\n",
            "Epoch 7/20\n",
            "77/77 [==============================] - 17s 223ms/step - loss: 0.6415 - price_loss: 0.5407 - type_loss: 0.6888 - price_sparse_categorical_accuracy: 0.7842 - type_sparse_categorical_accuracy: 0.7984 - val_loss: 0.9712 - val_price_loss: 0.8974 - val_type_loss: 0.9915 - val_price_sparse_categorical_accuracy: 0.6257 - val_type_sparse_categorical_accuracy: 0.7731\n",
            "Epoch 8/20\n",
            "77/77 [==============================] - 18s 233ms/step - loss: 0.6000 - price_loss: 0.4946 - type_loss: 0.6484 - price_sparse_categorical_accuracy: 0.8098 - type_sparse_categorical_accuracy: 0.8107 - val_loss: 1.0108 - val_price_loss: 0.9547 - val_type_loss: 1.0100 - val_price_sparse_categorical_accuracy: 0.6355 - val_type_sparse_categorical_accuracy: 0.7699\n",
            "Epoch 9/20\n",
            "77/77 [==============================] - 18s 235ms/step - loss: 0.5641 - price_loss: 0.4548 - type_loss: 0.6141 - price_sparse_categorical_accuracy: 0.8289 - type_sparse_categorical_accuracy: 0.8207 - val_loss: 1.0366 - val_price_loss: 0.9921 - val_type_loss: 1.0235 - val_price_sparse_categorical_accuracy: 0.6355 - val_type_sparse_categorical_accuracy: 0.7625\n",
            "Epoch 10/20\n",
            "77/77 [==============================] - 18s 228ms/step - loss: 0.5288 - price_loss: 0.4133 - type_loss: 0.5832 - price_sparse_categorical_accuracy: 0.8436 - type_sparse_categorical_accuracy: 0.8273 - val_loss: 1.0682 - val_price_loss: 1.0181 - val_type_loss: 1.0583 - val_price_sparse_categorical_accuracy: 0.6282 - val_type_sparse_categorical_accuracy: 0.7445\n",
            "Epoch 11/20\n",
            "77/77 [==============================] - 18s 234ms/step - loss: 0.4990 - price_loss: 0.3842 - type_loss: 0.5504 - price_sparse_categorical_accuracy: 0.8533 - type_sparse_categorical_accuracy: 0.8420 - val_loss: 1.1405 - val_price_loss: 1.1182 - val_type_loss: 1.1020 - val_price_sparse_categorical_accuracy: 0.6290 - val_type_sparse_categorical_accuracy: 0.7502\n",
            "Epoch 12/20\n",
            "77/77 [==============================] - 18s 231ms/step - loss: 0.4722 - price_loss: 0.3550 - type_loss: 0.5251 - price_sparse_categorical_accuracy: 0.8676 - type_sparse_categorical_accuracy: 0.8482 - val_loss: 1.1787 - val_price_loss: 1.1447 - val_type_loss: 1.1497 - val_price_sparse_categorical_accuracy: 0.6167 - val_type_sparse_categorical_accuracy: 0.7379\n",
            "Epoch 13/20\n",
            "77/77 [==============================] - 17s 218ms/step - loss: 0.4458 - price_loss: 0.3290 - type_loss: 0.4979 - price_sparse_categorical_accuracy: 0.8768 - type_sparse_categorical_accuracy: 0.8645 - val_loss: 1.2683 - val_price_loss: 1.2788 - val_type_loss: 1.1902 - val_price_sparse_categorical_accuracy: 0.6134 - val_type_sparse_categorical_accuracy: 0.7273\n"
          ]
        }
      ],
      "source": [
        "# increasing the batch size to 64 to improve training speed, still 20 epochs\n",
        "history =bi_lstm_model.fit(\n",
        "      x={\n",
        "          'summary': x_tr_text_id,\n",
        "          'image': x_tr_image\n",
        "      },\n",
        "      y={\n",
        "          'price': y_tr_price,\n",
        "          'type': y_tr_type,\n",
        "      },\n",
        "     epochs=20,\n",
        "     batch_size=64,\n",
        "     validation_data=(\n",
        "          {\n",
        "              'summary': x_vl_text_id,\n",
        "              'image': x_vl_image\n",
        "          },\n",
        "          {\n",
        "              'price': y_vl_price,\n",
        "              'type': y_vl_type,\n",
        "          }),\n",
        "      validation_split=0.2,\n",
        "      callbacks=callbacks,\n",
        "      verbose=1\n",
        "  )"
      ]
    },
    {
      "cell_type": "code",
      "execution_count": null,
      "id": "6eba163a",
      "metadata": {
        "id": "6eba163a",
        "outputId": "5ee62059-eada-4a3f-94b7-747c8c0c41d2"
      },
      "outputs": [
        {
          "data": {
            "image/png": "[encoded data removed]",
            "text/plain": [
              "<Figure size 864x288 with 3 Axes>"
            ]
          },
          "metadata": {
            "needs_background": "light"
          },
          "output_type": "display_data"
        }
      ],
      "source": [
        "fig, (ax1, ax2, ax3) = plt.subplots(1, 3, figsize=(12,4))\n",
        "fig.suptitle('result')\n",
        "#  training price accuracy and the validation price accuracy\n",
        "ax1.plot(history.history['price_sparse_categorical_accuracy'])\n",
        "ax1.plot(history.history['val_price_sparse_categorical_accuracy'])\n",
        "ax1.set_title('price accuracy')\n",
        "ax1.set_ylabel('accuracy')\n",
        "ax1.set_xlabel('epoch')\n",
        "ax1.legend(['train_price', 'validation_price'], loc='upper left')\n",
        "#  specified accuracy metric and type accuracy\n",
        "ax2.plot(history.history['type_sparse_categorical_accuracy'])\n",
        "ax2.plot(history.history['val_type_sparse_categorical_accuracy'])\n",
        "ax2.set_title('type accuracy')\n",
        "ax2.set_ylabel('accuracy')\n",
        "ax2.set_xlabel('epoch')\n",
        "ax2.legend(['train_type', 'validation_type'], loc='upper left')\n",
        "# the training loss and the validation loss\n",
        "ax3.plot(history.history['loss'])\n",
        "ax3.plot(history.history['val_loss'])\n",
        "ax3.set_title('model loss')\n",
        "ax3.set_ylabel('loss')\n",
        "ax3.set_xlabel('epoch')\n",
        "ax3.legend(['train', 'validation'], loc='upper left')\n",
        "plt.show() # display the figure"
      ]
    },
    {
      "cell_type": "code",
      "execution_count": null,
      "id": "3b2e3497",
      "metadata": {
        "id": "3b2e3497"
      },
      "outputs": [],
      "source": [
        "y_predict = bi_lstm_model.predict(\n",
        "      {\n",
        "          'summary': x_test_summary,\n",
        "          'image': x_test_image\n",
        "      }\n",
        "  )\n",
        "price_predicted = y_predict['price']\n",
        "price_category_predicted = np.argmax(price_predicted, axis=1)\n",
        "pd.DataFrame(\n",
        "      {'id': test.id,\n",
        "      'price': price_category_predicted}).to_csv('regularization.csv', index=False)"
      ]
    },
    {
      "cell_type": "markdown",
      "id": "SrlxBeKYR0Ko",
      "metadata": {
        "id": "SrlxBeKYR0Ko"
      },
      "source": [
        "caused the model to underfit but  Loss curve is much smoother"
      ]
    },
    {
      "cell_type": "markdown",
      "metadata": {
        "id": "C3BYIW73Kx9e"
      },
      "source": [
        "increasing batch size reduced training time but appeared to hurt performance.\n",
        "varying the number of hidden units in the bidirectional GRU layer did not appear to affect performance\n"
      ],
      "id": "C3BYIW73Kx9e"
    },
    {
      "cell_type": "markdown",
      "id": "lSTkfFX8SU1o",
      "metadata": {
        "id": "lSTkfFX8SU1o"
      },
      "source": [
        "# questions"
      ]
    },
    {
      "cell_type": "markdown",
      "id": "k7sHVClUSzNI",
      "metadata": {
        "id": "k7sHVClUSzNI"
      },
      "source": [
        "# Is fully-connected model a good one for sequential data? Why? How about for image data? Is it good? Why?\n",
        "No, it is not good for both as the number of parameters will increase exponentially which will make the model computationally expensive and it will not be able to keep information from the previous input which is the main idea of sequence models and for images, it will not be able to extract features like convolutional layers and that's why it is only used to combine the upper layer features."
      ]
    },
    {
      "cell_type": "markdown",
      "id": "pEwKDkyxF3Wh",
      "metadata": {
        "id": "pEwKDkyxF3Wh"
      },
      "source": [
        "#  What is gradient vanishing and gradient explosion, and how GRU/LSTM tries to mitigate this problem?\n",
        "\n",
        "🔥A2. Vanishing and exploding gradients are a phenomena in recurrent neural networks where gradients become exponentially larger or smaller the further they are backpropagated through network layers. This is due to the chain rule which results in the repeated multiplication of gradients when computing the gradients of lower network layers, or layers many timesteps backward in the case of RNNs. In the case of a vanishing gradient, the network can only learn items towards the end of a sequence. In the case of exploding gradients, the memory requirements will become a constraint.\n",
        "\n",
        "LSTM/GRU address this issue by using a gated architecture to control information flow. Here, information that is relevant for long-term sequence modeling is retained, and information that is only required for short-term learning is \"forgotten\". The cell state in LSTMs is regulated by internal gates, which allows the LSTM to determine which information to retain or forget from previous steps in the sequence.\n",
        "Q: What is gradient vanishing and gradient explosion, and how GRU/LSTM tries to mitigate this problem?\n",
        "A: In a network of n hidden layers, n derivatives will be multiplied together. If the derivatives are large then the gradient will increase exponentially as we propagate down the model until they eventually explode, and this is what we call the problem of exploding gradient. Alternatively, if the derivatives are small then the gradient will decrease exponentially as we propagate through the model until it eventually vanishes, and this is the vanishing gradient problem.\n",
        "\n",
        "\n",
        "\n",
        "Observing the above graph of the Sigmoid function, we can see that for larger inputs (negative or positive), it saturates at 0 or 1 with a derivative very close to zero. Thus, when the backpropagation algorithm chips in, it virtually has no gradients to propagate backward in the network, and whatever little residual gradients exist keeps on diluting as the algorithm progresses down through the top layers. So, this leaves nothing for the lower layers.\n",
        "\n",
        "GRU/LSTM:\n",
        "\n",
        "LSTM ’s and GRU’s were created as the solution to short-term memory. They have internal mechanisms called gates that can regulate the flow of information.\n",
        "\n",
        "\n",
        "\n",
        "These gates can learn which data in a sequence is important to keep or throw away. By doing that, it can pass relevant information down the long chain of sequences to make predictions. Almost all state of the art results based on recurrent neural networks are achieved with these two networks. LSTM’s and GRU’s can be found in speech recognition, speech synthesis, and text generation. You can even use them to generate captions for videos."
      ]
    },
    {
      "cell_type": "markdown",
      "id": "LOM0wMEWGESp",
      "metadata": {
        "id": "LOM0wMEWGESp"
      },
      "source": [
        "# What is multi-objective/multi-task learning? What is multi-modality learning? How this assignment fits into those paradigm?\n",
        "\n",
        "🔥A3. Multi-task learning is a machine learning paradigm wherein multiple tasks are solved at the same time to take advantage similarities across multiple learning tasks. This has been proven to lead to better generalization and improved prediction accuracy in some cases when compared to training separate models on individual tasks.\n",
        "\n",
        "Multi-modality learning is used to create a joint statistical representation of a task or process using different modalities or types of media. For example, images are usually accompanied by captions.\n",
        "\n",
        "This assignment nicely fits into both of these paradigms. Firstly, we are carrying out two multi-class classification tasks on both the type of listing, and the price range of the rental listing. This is useful as the price should depend on the type of listing (i.e. renting a villa should be much more expensive than an apartment). Multi-modality learning is used in this assignment to combine the listing summary with an image of the property that is listed to build a joint representation of the listing when training a model.\n",
        "Ques 1: What is multi-objective/multi-task learning? What is multi-modality learning? How this assignment fits into those paradigm?\n",
        "Ans: In single objective learning, a specific task is being optimized to get the best model. But in some cases, it becomes important to incorporate related task data to get better results and the method is called as multi-objective/multi-task learning. By sharing information of related task, the model becomes more generalizable and better trained. As in this assignment, the hidden layers are shared between two tasks and the final layer is the task specific layer. This approach is also termed as hard-parameter sharing.\n",
        "\n",
        "Multi-modality: Multi-modality traning includes using different kinds of information to train the model. As given in this assignment, the image data and text data information is used to get the required result. The image data information is extracted using Convolutional Neural Network while the text data information is extracted using GRU layer and then finally both the information is combined.\n",
        "\n",
        "In this assignment, we are using multi-task and multi-modality. Here information is combined from two different task (predicting price range and predicting type category) and the two tasks has information in different type: image and text. Thus it is both mutli-task and multi-modality.\n",
        "Q: What is multi-objective/multi-task learning? What is multi-modality learning? How this assignment fits into those paradigm?\n",
        "A: Multi-task learning: is a machine learning approach in which we try to learn multiple tasks simultaneously, optimizing multiple loss functions at once. Rather than training independent models for each task, we allow a single model to learn to complete all of the tasks at once. In this process, the model uses all of the available data across the different tasks to learn generalized representations of the data that are useful in multiple contexts.\n",
        "\n",
        "Multi-task learning should be used when the tasks have some level of correlation. In other words, multi-task learning improves performance when there are underlying principles or information shared between tasks. For example, two tasks involving classifying images of animals are likely to be correlated, as both tasks will involve learning to detect fur patterns and colors. This would be a good use-case for multi-task learning since learning these images features is useful for both tasks.\n",
        "\n",
        "\n",
        "\n",
        "As we can see, hard parameter sharing forces the model to learn an intermediate representation that conveys enough information for all of the tasks. The task-specific portions of the network all start with the same base representation from the last shared layer.\n",
        "\n",
        "Multi-task learning improves the generalizability of this representation because learning multiple tasks forces the model to focus on the features that are useful across all of the tasks.\n",
        "\n",
        "Multi-modality learning: Multimodal learning involves relating information from multiple sources. In our case, we are trying to use the textual data and the image data together to get the required outcome. We make use of the the Multiclass Classification.\n",
        "\n",
        "Multiclass Classification is a classification task with more than two classes; e.g., classify a set of images of fruits which may be oranges, apples, or pears. Multi-class classification makes the assumption that each sample is assigned to one and only one label: a fruit can be either an apple or a pear but not both at the same time."
      ]
    },
    {
      "cell_type": "markdown",
      "id": "RT8W2zjES6Fw",
      "metadata": {
        "id": "RT8W2zjES6Fw"
      },
      "source": [
        "# What is the difference among xgboost, lightgbm and catboost?\n",
        "Fast – optimized for multi-threading/processing\n",
        "\n",
        "• Doesn't handle categorical feature encoding, must be done manually first.\n",
        "\n",
        "• Additional regularization\n",
        "\n",
        "Light GBM is faster than XGBoost • Lower memory consumption\n",
        "\n",
        "• Can reach even lower bias on a larger dataset\n",
        "\n",
        "• Higher risk of overfitting\n",
        "\n",
        "• Gradient-based One-Side Sampling (GOSS)\n",
        "\n",
        "• Down-sample instances based on the gradient\n",
        "\n",
        "• Happened during split\n",
        "\n",
        "• High gradient -> high bias -> higher chance\n",
        "\n",
        "• Small gradient -> small bias -> lower chance\n",
        "\n",
        "• it selects the samples that are causing more errors to estimate split\n",
        "\n",
        "CatBoost\n",
        "\n",
        "• Specifically design for categorical features\n",
        "\n",
        "• A better and flexible approach to automatically encode categorical features\n",
        "\n",
        "• Categorical feature -> numeric feature\n",
        "\n",
        "• Work on GPU"
      ]
    },
    {
      "cell_type": "markdown",
      "id": "VjpffpqQPLsw",
      "metadata": {
        "id": "VjpffpqQPLsw"
      },
      "source": [
        "# What is the experimental protocol used and how was it carried out?\n",
        "\n",
        " the training and test datasets  are loaded into pandas dataframes. Images are loaded as greyscale ot RGB, Text summaries are  loaded as strings. Price and rental type labels are  loaded, and categorically encoded.\n",
        "the training and validation splits are created for the two sets of inputs a hold-out validation set of 20% is used.\n",
        "the text data is preprocessed by  fitting a tokenizer on all of the text summaries. a vocabulary of 40000 unique words.A max sequence length of 100 words is enforced to truncate long sequences, and to pad shorter sequences with zeros\n",
        " average of the embeddings is computed for each sequence.by passing their values through a 2D convolutional layer, using 2D max-pooling to reduce the size, A feature vector is created for the input images and then flattening that output.\n",
        "These output vectors are concatenated and passed to a dense layer using softmax activation to perform separate multi-class classification tasks on price and type labels\n",
        "by using Adam for tuning weights, sparse categorical cross-entropy loss, and sparse categorical accuracy for evaluation .  \n",
        "The model is trained for 20 epochs with a batch size of 16 or 64 ot 32 and a hold-out validation set of 20%. Early stopping is used to  prevent overfitting.\n",
        "\n",
        "# How did we tune hyper-parameters in the template?\n",
        "\n",
        "i did not do much on tuning hyperparametes,  i just chanaged the number of epochs, batch size, and size of the hold-out set for validation\n",
        "\n",
        "# What is the search space and what is the criteria to determine good/bad hyper-parameters?\n",
        "\n",
        "The search space is defined by the range of values for each parameter . The criteria used to identify good/bad hyperparameters is the performance metric or loss function, where good hyperparameters improve the performance, and bad parameters decrease performance."
      ]
    },
    {
      "cell_type": "markdown",
      "id": "P2kkwRmCRIKp",
      "metadata": {
        "id": "P2kkwRmCRIKp"
      },
      "source": [
        "# Problem Formulation\n",
        " Instead of predicting the actual listing price using regression,the task is to determine a list of  price for a new listing on Airbnb, a multi-modality approach is also applied,the objective is to predict which pricing  range is  for a new listing. A multi-objective approach is used to predict the price range of a new listing.\n",
        " the two inputs for each listing is a text summary and an image. The outputs created by the model are type and price range. The data mining functions required for this task are effective feature extraction from 2D images,\n",
        " Challenges could be from developing an effective sequence model for the text portion of this task will need to address the exploding/vanishing gradient problem  from using small image dimensions,may not contain enough detail  to predict price ranges.\n",
        " and a vocabulary that is too big could add noise to the model. ,An ideal solution will be  to accurately classify the  price range for new Airbnb listings. The impact of this solution would streamline the workflow for using Airbnb"
      ]
    }
  ],
  "metadata": {
    "colab": {
      "collapsed_sections": [
        "g8ttlq09NLNZ",
        "F6sS15pfNZwh",
        "sE6MPoQ1Nik4",
        "kza2f1l7NuQx",
        "_8IG-rk7P6_R",
        "lSTkfFX8SU1o",
        "k7sHVClUSzNI",
        "pEwKDkyxF3Wh",
        "LOM0wMEWGESp",
        "RT8W2zjES6Fw",
        "VjpffpqQPLsw",
        "P2kkwRmCRIKp"
      ],
      "provenance": [],
      "toc_visible": true
    },
    "kernelspec": {
      "display_name": "Python 3 (ipykernel)",
      "language": "python",
      "name": "python3"
    },
    "language_info": {
      "codemirror_mode": {
        "name": "ipython",
        "version": 3
      },
      "file_extension": ".py",
      "mimetype": "text/x-python",
      "name": "python",
      "nbconvert_exporter": "python",
      "pygments_lexer": "ipython3",
      "version": "3.9.7"
    }
  },
  "nbformat": 4,
  "nbformat_minor": 5
}